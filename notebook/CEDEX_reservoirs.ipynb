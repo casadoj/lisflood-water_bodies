{
 "cells": [
  {
   "cell_type": "markdown",
   "id": "1f8ca019-b6ce-4567-b0e6-2ac8f7c17e3f",
   "metadata": {},
   "source": [
    "# Reservoirs and dams in Spain: attributes\n",
    "***\n",
    "\n",
    "**Author:** Chus Casado Rodríguez<br>\n",
    "**Date:** 28-11-2023<br>\n",
    "\n",
    "**Introduction:**<br>\n",
    "In this notebook I extract from the SNCZI (_Sistema Nacional de Cartografía de Zonas Inundables_) attributes for the 394 reservoirs in the data set  _Anuario de Aforos_ (from now on AA). HYDRO requires values of minimum and maximum reservoir outflow and capacity to apply quality checks on the time series in AA.\n",
    "\n",
    "First I need to find a connection between the reservoirs in AA (point shapefile) and the reservoirs in SNCZI (polygon shapefile). After a try in Python, I saw there are many errors due to the wrong location of the points in comparison with the polygons. Therefore, I decided to do it manually on QGIS since the 394 reservoirs will not take too long.\n",
    "\n",
    "After that, I have downloaded the XML reports from the reservoirs in SNCZI that match a reservoir in AA and read the attributes from those reports. The resulting table is exported as an CSV file (_attributes_reservoirs.csv_).\n",
    "\n",
    "Fortunately, the attributes of the SNCZI reservoirs specify the main dam in that reservoir (field _Código de infraestructura_). This attribute allows me to download the XML reports from the dams in SNCZI associated with a reservoir in AA. I read the XML files of attributes and I produce a second table that I export as a CSV file (_attributes_dams.csv_)\n",
    "\n",
    "**To do:**<br>\n",
    "* [x] Find connection between the reservoirs in CEDEX and those in SNCZI"
   ]
  },
  {
   "cell_type": "code",
   "execution_count": 1,
   "id": "97fb7d11-0e75-491b-81b8-f7427c009cc9",
   "metadata": {},
   "outputs": [],
   "source": [
    "import os\n",
    "os.environ['USE_PYGEOS'] = '0'\n",
    "import numpy as np\n",
    "import pandas as pd\n",
    "import geopandas as gpd\n",
    "from pathlib import Path\n",
    "from typing import Union, List, Tuple, Dict\n",
    "from tqdm.notebook import tqdm\n",
    "import requests\n",
    "\n",
    "from utils.SNCZI import reservoir_attributes, dam_attributes"
   ]
  },
  {
   "cell_type": "markdown",
   "id": "f752c6a2-c841-4959-a879-5eaceadbd0d2",
   "metadata": {},
   "source": [
    "There are three shape files I have extracted from both _AA_ and _SNCZI_. From _AA_ I created a shapefile based on the table _EMBALSE.CSV_. From SNCZI I have downloaded two shapefiles of reservoirs and dams."
   ]
  },
  {
   "cell_type": "code",
   "execution_count": 2,
   "id": "64e4ba99-4d76-4a2d-aa88-a58059bbabd4",
   "metadata": {},
   "outputs": [],
   "source": [
    "path_datasets = Path('Z:/nahaUsers/casadje/datasets/')"
   ]
  },
  {
   "cell_type": "markdown",
   "id": "d9cf8661-b0d7-449f-91b6-e760b232385d",
   "metadata": {},
   "source": [
    "## CEDEX"
   ]
  },
  {
   "cell_type": "code",
   "execution_count": 3,
   "id": "437d715b-37b2-42e3-b5d9-4cfce9dfdb8d",
   "metadata": {},
   "outputs": [
    {
     "name": "stdout",
     "output_type": "stream",
     "text": [
      "AA contains 394 reservoirs\n",
      "7 reservoirs are not connected to the SNCZI database\n"
     ]
    }
   ],
   "source": [
    "path_cedex = path_datasets / 'CEDEX/processed/reservoirs/attributes/GIS/'\n",
    "\n",
    "reservoirs_AA = gpd.read_file(path_cedex / 'reservoirs.shp')\n",
    "reservoirs_AA.ref_ceh = reservoirs_AA.ref_ceh.astype(int)\n",
    "reservoirs_AA.set_index('ref_ceh', drop=True, inplace=True)\n",
    "reservoirs_AA.sort_index(axis=0, inplace=True)\n",
    "reservoirs_AA.to_crs(epsg=25830, inplace=True)\n",
    "\n",
    "print('AA contains {0} reservoirs'.format(reservoirs_AA.shape[0]))\n",
    "print('{0} reservoirs are not connected to the SNCZI database'.format((reservoirs_AA.SNCZI == 0).sum()))\n",
    "# reservoirs_AA.head()"
   ]
  },
  {
   "cell_type": "markdown",
   "id": "c928ee0d-5c16-4364-a4e4-783129733591",
   "metadata": {},
   "source": [
    "## SNCZI\n",
    "\n",
    "### Reservoirs"
   ]
  },
  {
   "cell_type": "code",
   "execution_count": 6,
   "id": "0b208529-9b60-4947-80e3-8a47a484f0d2",
   "metadata": {},
   "outputs": [
    {
     "name": "stdout",
     "output_type": "stream",
     "text": [
      "SNCZI contains 3170 reservoirs and 18 attributes\n"
     ]
    }
   ],
   "source": [
    "reservoirs_SNCZI = gpd.read_file(path_cedex / 'egis_embalse_geoetrs89.shp')\n",
    "reservoirs_SNCZI['ID_EMBALSE'] = reservoirs_SNCZI['ID_EMBALSE'].astype(int)\n",
    "reservoirs_SNCZI.set_index('ID_EMBALSE', drop=True, inplace=True)\n",
    "reservoirs_SNCZI.sort_index(axis=0, inplace=True)\n",
    "reservoirs_SNCZI.to_crs(epsg=25830, inplace=True)\n",
    "\n",
    "print('SNCZI contains {0} reservoirs and {1} attributes'.format(*reservoirs_SNCZI.shape))\n",
    "# reservoirs_SNCZI.head()"
   ]
  },
  {
   "cell_type": "markdown",
   "id": "6799567d-336d-4080-aedd-21c8ae6e7222",
   "metadata": {},
   "source": [
    "#### Download reports"
   ]
  },
  {
   "cell_type": "code",
   "execution_count": 16,
   "id": "5528802a-2bf6-4327-b823-4eb322b18b40",
   "metadata": {},
   "outputs": [],
   "source": [
    "path_reports = path_datasets / 'SNCZI' / 'reports' / 'reservoirs'\n",
    "path_reports.mkdir(parents=True, exist_ok=True)"
   ]
  },
  {
   "cell_type": "code",
   "execution_count": 8,
   "id": "946fb3c0-726d-4e00-a0c5-69c63a60adba",
   "metadata": {},
   "outputs": [
    {
     "data": {
      "application/vnd.jupyter.widget-view+json": {
       "model_id": "e1d29c3ecb394e3d99e6cbdf11b718e4",
       "version_major": 2,
       "version_minor": 0
      },
      "text/plain": [
       "  0%|          | 0/394 [00:00<?, ?it/s]"
      ]
     },
     "metadata": {},
     "output_type": "display_data"
    }
   ],
   "source": [
    "for ID in tqdm(reservoirs_AA.SNCZI):\n",
    "    \n",
    "    if ID == 0:\n",
    "        continue\n",
    "        \n",
    "    # output XML file\n",
    "    filename = f'{path_reports}/{ID:04}.xml'\n",
    "    if os.path.isfile(filename):\n",
    "        continue\n",
    "    \n",
    "    # extract data from URL\n",
    "    url = f'https://sig.mapama.gob.es/WebServices/clientews/snczi/Default.aspx?nombre=EGISPE_EMBALSE&claves=ID_EMBALSE&valores={ID}&op=ExpMultiple'\n",
    "    with requests.get(url) as response:\n",
    "        lines = [line.decode('utf-8') for line in response.iter_lines()]\n",
    "    \n",
    "    # export XML file\n",
    "    with open(filename, 'w', encoding='utf-8') as file:\n",
    "        file.writelines(line + '\\n' for line in lines)"
   ]
  },
  {
   "cell_type": "markdown",
   "id": "154721a2-c338-4e75-b10f-80d2486e5c1a",
   "metadata": {},
   "source": [
    "#### Read reports"
   ]
  },
  {
   "cell_type": "code",
   "execution_count": 9,
   "id": "73eb0d23-79ff-4f06-b960-edc2edf82afc",
   "metadata": {},
   "outputs": [
    {
     "data": {
      "application/vnd.jupyter.widget-view+json": {
       "model_id": "61ebda68d169468fbc68eb9d7c9871a7",
       "version_major": 2,
       "version_minor": 0
      },
      "text/plain": [
       "  0%|          | 0/394 [00:00<?, ?it/s]"
      ]
     },
     "metadata": {},
     "output_type": "display_data"
    },
    {
     "data": {
      "text/plain": [
       "(387, 19)"
      ]
     },
     "execution_count": 9,
     "metadata": {},
     "output_type": "execute_result"
    }
   ],
   "source": [
    "attributes1 = pd.DataFrame(dtype='object')\n",
    "for ref_ceh in tqdm(reservoirs_AA.index):\n",
    "    ID = reservoirs_AA.loc[ref_ceh, 'SNCZI']\n",
    "    if ID == 0:\n",
    "        continue\n",
    "    file = f'{path_reports}/{ID:04}.xml'\n",
    "    try:\n",
    "        attributes1 = pd.concat((attributes1, reservoir_attributes(file, name=ref_ceh)), axis=1)\n",
    "    except:\n",
    "        print(file)\n",
    "        continue\n",
    "\n",
    "attributes1 = attributes1.transpose()\n",
    "attributes1.index.name = 'ref_ceh'\n",
    "\n",
    "attributes1.shape"
   ]
  },
  {
   "cell_type": "code",
   "execution_count": 17,
   "id": "6d662e38-7920-49e4-84f0-7f7dcd2d6ef3",
   "metadata": {},
   "outputs": [],
   "source": [
    "# export the reservoirs' attribute table\n",
    "attributes1.to_csv(path_reports / 'attributes_reservoirs.csv')"
   ]
  },
  {
   "cell_type": "markdown",
   "id": "bcf9610f-0998-4478-9658-cbbb91734b4d",
   "metadata": {},
   "source": [
    "### Dams"
   ]
  },
  {
   "cell_type": "code",
   "execution_count": 11,
   "id": "4a1a76e5-43ac-4c5f-afac-3028a29f8d90",
   "metadata": {},
   "outputs": [
    {
     "name": "stdout",
     "output_type": "stream",
     "text": [
      "SNCZI contains 3208 dams and 23 attributes\n"
     ]
    }
   ],
   "source": [
    "dams_SNCZI = gpd.read_file(path_cedex / 'egis_presa_geoetrs89.shp')\n",
    "cols_int = ['ID_INFRAES', 'CODIGO']\n",
    "dams_SNCZI[cols_int] = dams_SNCZI[cols_int].astype(int)\n",
    "dams_SNCZI.set_index('ID_INFRAES', drop=True, inplace=True)\n",
    "dams_SNCZI.sort_index(inplace=True)\n",
    "dams_SNCZI.to_crs(epsg=25830, inplace=True)\n",
    "\n",
    "print('SNCZI contains {0} dams and {1} attributes'.format(*dams_SNCZI.shape))\n",
    "# dams_SNCZI.head()"
   ]
  },
  {
   "cell_type": "markdown",
   "id": "62d67240-bdd2-4005-871e-5db9277087be",
   "metadata": {},
   "source": [
    "#### Download reports"
   ]
  },
  {
   "cell_type": "code",
   "execution_count": 18,
   "id": "51aec210-88b2-4f8b-9061-e96e7ece36c6",
   "metadata": {},
   "outputs": [],
   "source": [
    "path_reports = path_datasets / 'SNCZI' / 'reports' / 'dams'\n",
    "path_reports.mkdir(parents=True, exist_ok=True)"
   ]
  },
  {
   "cell_type": "code",
   "execution_count": 13,
   "id": "33588610-c526-4351-bb39-3c4de1ed0a6c",
   "metadata": {},
   "outputs": [
    {
     "data": {
      "application/vnd.jupyter.widget-view+json": {
       "model_id": "59f61d61dbc74835b5512a4c8dfcd9b7",
       "version_major": 2,
       "version_minor": 0
      },
      "text/plain": [
       "  0%|          | 0/394 [00:00<?, ?it/s]"
      ]
     },
     "metadata": {},
     "output_type": "display_data"
    },
    {
     "name": "stdout",
     "output_type": "stream",
     "text": [
      "1274\n",
      "1346\n",
      "1357\n",
      "1360\n",
      "2028\n",
      "5059\n",
      "9834\n",
      "9853\n",
      "9854\n"
     ]
    }
   ],
   "source": [
    "for ref_ceh in tqdm(reservoirs_AA.index):\n",
    "    \n",
    "    # find the ID of the dam\n",
    "    try:\n",
    "        code_infr = int(attributes1.loc[ref_ceh, 'Código de infraestructura'])\n",
    "    except:\n",
    "        print(ref_ceh)\n",
    "        continue\n",
    "    ID = dams_SNCZI.loc[dams_SNCZI.CODIGO == code_infr].index[0]\n",
    "\n",
    "    # output XML file\n",
    "    filename = f'{path_reports}/{ID:04}.xml'\n",
    "    if os.path.isfile(filename):\n",
    "        continue\n",
    "    \n",
    "    # extract data from URL\n",
    "    url = f'https://sig.mapama.gob.es/WebServices/clientews/snczi/Default.aspx?nombre=EGISPE_PRESA&claves=ID_INFRAESTRUCTURA&valores={ID}&op=Exportar'\n",
    "    \n",
    "    with requests.get(url) as response:\n",
    "        lines = [line.decode('utf-8') for line in response.iter_lines()]\n",
    "    \n",
    "    # export XML file\n",
    "    with open(filename, 'w', encoding='utf-8') as file:\n",
    "        file.writelines(line + '\\n' for line in lines)"
   ]
  },
  {
   "cell_type": "markdown",
   "id": "3c289790-7741-40ce-9092-c42e0aa37b30",
   "metadata": {},
   "source": [
    "#### Read reports"
   ]
  },
  {
   "cell_type": "code",
   "execution_count": 14,
   "id": "9bed4260-687d-44eb-b4ff-890942f1afe1",
   "metadata": {},
   "outputs": [
    {
     "data": {
      "application/vnd.jupyter.widget-view+json": {
       "model_id": "7b9a06f0953d46979fb03ce1257d3da6",
       "version_major": 2,
       "version_minor": 0
      },
      "text/plain": [
       "  0%|          | 0/394 [00:00<?, ?it/s]"
      ]
     },
     "metadata": {},
     "output_type": "display_data"
    },
    {
     "name": "stdout",
     "output_type": "stream",
     "text": [
      "1274\n",
      "1346\n",
      "1357\n",
      "1360\n",
      "2028\n",
      "5059\n",
      "9834\n",
      "9853\n",
      "9854\n"
     ]
    },
    {
     "data": {
      "text/plain": [
       "(385, 36)"
      ]
     },
     "execution_count": 14,
     "metadata": {},
     "output_type": "execute_result"
    }
   ],
   "source": [
    "attributes2 = pd.DataFrame(dtype='object')\n",
    "for ref_ceh in tqdm(reservoirs_AA.index):\n",
    "    \n",
    "    # find the ID of the dam\n",
    "    try:\n",
    "        code_infr = int(attributes1.loc[ref_ceh, 'Código de infraestructura'])\n",
    "    except:\n",
    "        print(ref_ceh)\n",
    "        continue\n",
    "    ID = dams_SNCZI.loc[dams_SNCZI.CODIGO == code_infr].index[0]\n",
    "    file = f'{path_reports}/{ID:04}.xml'\n",
    "    attributes2 = pd.concat((attributes2,dam_attributes(file, name=ref_ceh)), axis=1)\n",
    "\n",
    "attributes2 = attributes2.transpose()\n",
    "attributes2.index.name = 'ref_ceh'\n",
    "\n",
    "attributes2.shape"
   ]
  },
  {
   "cell_type": "code",
   "execution_count": 19,
   "id": "555c58e4-b930-4232-95a3-d379831a0933",
   "metadata": {},
   "outputs": [],
   "source": [
    "# export the dams' attribute table\n",
    "attributes2.to_csv(path_reports / 'attributes_dams.csv')"
   ]
  },
  {
   "cell_type": "markdown",
   "id": "491d97ed-db1d-4f49-957f-cdc71302d2b3",
   "metadata": {},
   "source": [
    "## Mapping\n",
    "### Map reservoir and dams in SNCZI\n",
    "\n",
    "The ID of the reservoirs do not match between AA and SNCZI, and not even the reservoirs and the dams in SNCZI. Many reservoirs in SNCZI have more than one dam associated."
   ]
  },
  {
   "cell_type": "markdown",
   "id": "da5573dc-e3f6-424d-b298-9053b55946b6",
   "metadata": {},
   "source": [
    "```Python\n",
    "buffer_distance = 100\n",
    "attrs = ['AP_M_ANUAL', 'NMN_CAPAC', 'NMN_SUP', 'NOMBRE', 'SUP_CUENCA']#, 'PROVINCIA', 'TITULAR']\n",
    "map_SNCZI = {}\n",
    "for ID_EMBALSE, reservoir in tqdm(reservoirs_SNCZI.iterrows()):\n",
    "    # Create a buffer around the polygon\n",
    "    buffer = reservoir['geometry'].buffer(buffer_distance)\n",
    "    \n",
    "    # Find points in dams_SNCZI that are within the buffer\n",
    "    dams = dams_SNCZI[dams_SNCZI['geometry'].within(buffer)]\n",
    "    mask = (reservoir[attrs] == dams[attrs]).any(axis=1)\n",
    "    if mask.sum() > 0:\n",
    "        # Store the indices of the points in the result dictionary\n",
    "        map_SNCZI[ID_EMBALSE] = dams[mask].index.tolist()\n",
    "    else:\n",
    "        print(f'No dams were associated to reservoir {ID_EMBALSE}')\n",
    "\n",
    "print('Reservoirs in the mapping:\\t{0}'.format(len(map_SNCZI)))\n",
    "print('Reservoirs in SNCZI:\\t\\t{0}'.format(reservoirs_SNCZI.shape[0]))\n",
    "print()\n",
    "ids = [id for id_list in map_SNCZI.values() for id in id_list]\n",
    "print('Total of dams in the mapping:\\t{0}'.format(len(ids)))\n",
    "print('Unique dams in the mapping:\\t{0}'.format(len(set(ids))))\n",
    "print('Dams in SNCZI:\\t\\t\\t{0}'.format(dams_SNCZI.shape[0]))\n",
    "```"
   ]
  },
  {
   "cell_type": "markdown",
   "id": "33bc0f3f-71ba-4da2-8484-68cb1a518519",
   "metadata": {},
   "source": [
    "There are several dams that are attributed to more than 1 reservoir, and some dams that are not attributed to any reservoirs."
   ]
  },
  {
   "cell_type": "markdown",
   "id": "80f14644-5eb3-465f-8a95-bb4e00d08f20",
   "metadata": {},
   "source": [
    "```Python\n",
    "from collections import Counter\n",
    "\n",
    "counts = pd.Series(Counter(ids))\n",
    "counts = counts.sort_values(ascending=False)\n",
    "\n",
    "counts.head()\n",
    "```"
   ]
  },
  {
   "cell_type": "markdown",
   "id": "25eec55f-acc0-4fa1-b8db-525c64064bcd",
   "metadata": {},
   "source": [
    "### Map AA with SNCZI"
   ]
  },
  {
   "cell_type": "markdown",
   "id": "3324628d-3de4-4649-8c85-b4d104e1ae69",
   "metadata": {
    "tags": []
   },
   "source": [
    "```Python\n",
    "map_ids = {}\n",
    "reservoirs_AA['SNCZI_ID'] = np.nan\n",
    "for ref_ceh in tqdm(reservoirs_AA.index):\n",
    "    ID = None\n",
    "    name, catchment = reservoirs_AA.loc[ref_ceh, ['nombre', 'cuenca']]\n",
    "    mask = dams.NOMBRE.str.contains(name)# & dams.DEMARC.str.contains(catchment)\n",
    "    aux = dams.loc[mask].copy()\n",
    "    if aux.shape[0] == 0:\n",
    "        gdf1 = reservoirs_AA.loc[[ref_ceh]].copy()\n",
    "        gdf1['geometry'] = gdf1['geometry'].buffer(distance)\n",
    "        aux = gpd.sjoin(gdf1, dams, predicate='intersects', how='inner')\n",
    "        aux['ref_ceh'] = aux.index\n",
    "        aux.set_index('index_right', inplace=True)\n",
    "        # if joined.shape[0] > 0:\n",
    "        #     ID = joined.NMN_CAPAC.idxmax()\n",
    "    if aux.shape[0] == 1:\n",
    "        ID = aux.index[0]\n",
    "    elif aux.shape[0] > 1:\n",
    "        try:\n",
    "            aux.CATEGORIA.replace({'A': 1, 'B': 2, 'C': 3}, inplace=True)\n",
    "            ID = aux.CATEGORIA.idxmin()\n",
    "        except:\n",
    "            ID = aux.NMN_CAPAC.idxmin()\n",
    "    if ID is not None:\n",
    "        reservoirs_AA.loc[ref_ceh, 'SNCZI_ID'] = ID\n",
    "        map_ids[ID] = ref_ceh\n",
    "```"
   ]
  }
 ],
 "metadata": {
  "kernelspec": {
   "display_name": "Python 3 (ipykernel)",
   "language": "python",
   "name": "python3"
  },
  "language_info": {
   "codemirror_mode": {
    "name": "ipython",
    "version": 3
   },
   "file_extension": ".py",
   "mimetype": "text/x-python",
   "name": "python",
   "nbconvert_exporter": "python",
   "pygments_lexer": "ipython3",
   "version": "3.9.13"
  }
 },
 "nbformat": 4,
 "nbformat_minor": 5
}
