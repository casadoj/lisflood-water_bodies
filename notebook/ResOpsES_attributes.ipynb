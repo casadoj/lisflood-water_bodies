{
 "cells": [
  {
   "cell_type": "markdown",
   "id": "e7bfb620-0515-4bbe-adde-71b978d69700",
   "metadata": {},
   "source": [
    "# Reservoir Operations Spain - attributes\n",
    "***\n",
    "\n",
    "**_Autor:_** Chus Casado Rodríguez<br>\n",
    "**_Fecha:_** 15-03-2024<br>\n",
    "\n",
    "**Introduction:**<br>\n",
    "This code compares the available attributes for reservoirs in Spain from different sources: the Spanish Ministry, ICOLD, GRanD.\n",
    "\n",
    "**To be checked:**<br>\n",
    "* [ ] The field `cedex_dam.Qspill_EFL` is mostly empty.\n",
    "* [x] There's a erroneous reservoir in EFAS. \"El Alisillo\" (ResID=3247) does not refer to any real reservoir, but it's very closely located to the \"Montoro III\" reservoir. The attributes don't much, though, so it's not a matter of just renaming the reservoir. <font color='steelblue'>I have created a new reservoir to represent \"Montoro III\"</font>.\n",
    "* [ ] How to proceed when there are several reservoirs in a continuous chain. For instance, Torrejón-Tajo and Arrocampo, or Tanes and Rioseco. Should we simulate each of them, or simply simulate them as a single reservoir with the aggregated volume?\n",
    "* [x] Attributes from GRanD\n",
    "* [x] Compare attributes among data sources: reservoir volume, etc.\n",
    "* [x] Should I include in the tables of attributes only the reservoirs with time series, or all the reservoirs? <font color='steelblue'>I have included all the reservoirs, so they can be later on used for regionalization, i.e., to estimate their reservoir parameters based on the attributes even though there aren't records."
   ]
  },
  {
   "cell_type": "code",
   "execution_count": 1,
   "id": "cec43023-f81a-492f-9667-d817ec96ba41",
   "metadata": {},
   "outputs": [],
   "source": [
    "import os\n",
    "os.environ['USE_PYGEOS'] = '0'\n",
    "import geopandas as gpd\n",
    "from shapely.geometry import Point\n",
    "import re\n",
    "from pathlib import Path\n",
    "import numpy as np\n",
    "import pandas as pd\n",
    "import xarray as xr\n",
    "from datetime import datetime, timedelta\n",
    "from tqdm.notebook import tqdm\n",
    "import matplotlib.pyplot as plt\n",
    "import seaborn as sns\n",
    "import cartopy.crs as ccrs\n",
    "import cartopy.feature as cfeature\n",
    "import seaborn as sns\n",
    "sns.set_style('ticks')\n",
    "\n",
    "from utils.SNCZI import reservoir_attributes, dam_attributes"
   ]
  },
  {
   "cell_type": "markdown",
   "id": "e0f8d181-fc8f-4b5b-87dd-46f1b68d2830",
   "metadata": {},
   "source": [
    "## Configuration"
   ]
  },
  {
   "cell_type": "code",
   "execution_count": 2,
   "id": "62695ba4-0914-45a0-8840-c10df394fd91",
   "metadata": {},
   "outputs": [],
   "source": [
    "path_datasets = Path('Z:/nahaUsers/casadje/datasets')\n",
    "\n",
    "path_ResOpsES = path_datasets / 'reservoirs' / 'ResOpsES'\n",
    "\n",
    "path_out = path_ResOpsES / 'attributes'\n",
    "path_out.mkdir(parents=True, exist_ok=True)"
   ]
  },
  {
   "cell_type": "code",
   "execution_count": 3,
   "id": "d7afd09c-fbee-4edd-8534-82774b2c5580",
   "metadata": {},
   "outputs": [],
   "source": [
    "path_snczi = path_datasets / 'SNCZI' / 'reports' "
   ]
  },
  {
   "cell_type": "markdown",
   "id": "dd555531-7479-47be-8da7-69b89bc182c8",
   "metadata": {},
   "source": [
    "## Hydrological Data Colection Centre (HDCC)"
   ]
  },
  {
   "cell_type": "markdown",
   "id": "9bc3ba33-683f-477f-a034-c08f02b406b4",
   "metadata": {},
   "source": [
    "Import shapefile of reservoirs in the Hydrological Data Colection Center (HDCC) database."
   ]
  },
  {
   "cell_type": "code",
   "execution_count": 4,
   "id": "7c59a5f7-3e87-4b61-980c-5fc18879918d",
   "metadata": {},
   "outputs": [
    {
     "name": "stdout",
     "output_type": "stream",
     "text": [
      "HDCC:\t\t\t394 reservoirs\n"
     ]
    }
   ],
   "source": [
    "# import shapefile\n",
    "hdcc = gpd.read_file(path_datasets / 'hDMS/reservoirs/reservoirs.shp')\n",
    "\n",
    "# filter reservoirs from the Spanish Ministry\n",
    "hdcc = hdcc.loc[hdcc['Country-Co'] == 'ES'].copy()\n",
    "hdcc = hdcc.loc[hdcc.Prov_ID == '1088']\n",
    "\n",
    "# rename ID fields, set index, and select coluns\n",
    "hdcc.rename(columns={'National_S': 'Local_ID', 'EFAS_ID': 'HDCC_ID'}, inplace=True)\n",
    "hdcc[['Local_ID', 'HDCC_ID']] = hdcc[['Local_ID', 'HDCC_ID']].astype(int)\n",
    "hdcc.set_index('Local_ID', drop=True, inplace=True)\n",
    "hdcc = hdcc[['HDCC_ID', 'Name', 'geometry']]\n",
    "\n",
    "print('HDCC:\\t\\t\\t{0} reservoirs'.format(hdcc.shape[0]))"
   ]
  },
  {
   "cell_type": "markdown",
   "id": "6373b50a-600a-4eaf-b38d-3bcb237c3928",
   "metadata": {},
   "source": [
    "The table `reservoirs` in HDCC does not contain reservoir attributes of interest (volume, area, catchment area, height, use...). I will only use this table to map reservoir IDs in EFAS and in the dataset of the Spanish Ministry."
   ]
  },
  {
   "cell_type": "markdown",
   "id": "482e3f1f-3b2c-4dea-baa0-4e6dd6c341dc",
   "metadata": {},
   "source": [
    "**Agència Catalana de l'Aigua**\n",
    "\n",
    "I have downloaded reservoir records from the ACA website, but these reservoirs are not yet in HDCC. I will upload here the shapefile of the ACA reservoirs and concatenate it to HDCC."
   ]
  },
  {
   "cell_type": "code",
   "execution_count": 5,
   "id": "6e5b9143-fc36-4b30-a2ac-a1e9cb083e50",
   "metadata": {},
   "outputs": [
    {
     "name": "stdout",
     "output_type": "stream",
     "text": [
      "HDCC + ACA:\t\t407 reservoirs\n"
     ]
    }
   ],
   "source": [
    "# load shapefile and treat the data\n",
    "aca = gpd.read_file(path_datasets / 'ACA' / 'processed' / 'reservoirs' / 'attributes' / 'GIS' / 'reservoirs_ACA.shp')\n",
    "aca.rename(columns={'ID_ACA': 'Local_ID', 'name': 'Name'}, inplace=True)\n",
    "aca['HDCC_ID'] = pd.Series(dtype='Int64')\n",
    "# aca.Local_ID = aca.Local_ID.astype('Int64')\n",
    "aca.set_index('Local_ID', inplace=True, drop=True)\n",
    "\n",
    "# combine HDCC and ACA reservoirs\n",
    "hdcc = pd.concat((hdcc, aca[['HDCC_ID', 'Name', 'geometry']]), axis=0)\n",
    "\n",
    "print('HDCC + ACA:\\t\\t{0} reservoirs'.format(hdcc.shape[0]))"
   ]
  },
  {
   "cell_type": "markdown",
   "id": "02bddecc-16e3-474c-96ad-c4eacf95b2a9",
   "metadata": {},
   "source": [
    "**Hidrosur**\n",
    "\n",
    "I have requested reservoir data from Hidrosur. This data is not yet in HDCC, so I will load it here and combine it with the reservoirs in HDCC."
   ]
  },
  {
   "cell_type": "code",
   "execution_count": 6,
   "id": "ffc5562d-bee5-4ebb-9f45-3734acd2ce35",
   "metadata": {},
   "outputs": [
    {
     "name": "stdout",
     "output_type": "stream",
     "text": [
      "HDCC + ACA + Hidrosur:\t428 reservoirs\n"
     ]
    }
   ],
   "source": [
    "# load shapefile and treat the data\n",
    "hidrosur = gpd.read_file(path_datasets / 'Hidrosur' / 'processed' / 'GIS' / 'stations_hidrosur.shp')\n",
    "hidrosur = hidrosur.loc[hidrosur['type'] == 'RESERVOIR']\n",
    "hidrosur.rename(columns={'ID': 'Local_ID', 'name': 'Name'}, inplace=True)\n",
    "hidrosur['HDCC_ID'] = pd.Series(dtype='Int64')\n",
    "hidrosur.Local_ID = hidrosur.Local_ID.astype('Int64')\n",
    "hidrosur.set_index('Local_ID', drop=True, inplace=True)\n",
    "\n",
    "# combine HDCC and ACA reservoirs\n",
    "hdcc = pd.concat((hdcc, hidrosur[['HDCC_ID', 'Name', 'geometry']]), axis=0)\n",
    "\n",
    "print('HDCC + ACA + Hidrosur:\\t{0} reservoirs'.format(hdcc.shape[0]))"
   ]
  },
  {
   "cell_type": "code",
   "execution_count": 7,
   "id": "76f1a220-66ca-40a0-8d8e-99a0c7806413",
   "metadata": {},
   "outputs": [
    {
     "data": {
      "image/png": "[encoded data removed]",
      "text/plain": [
       "<Figure size 640x480 with 1 Axes>"
      ]
     },
     "metadata": {},
     "output_type": "display_data"
    }
   ],
   "source": [
    "fig, ax = plt.subplots(subplot_kw=dict(projection=ccrs.PlateCarree()))\n",
    "ax.add_feature(cfeature.NaturalEarthFeature('physical', 'land', '10m', edgecolor='face', facecolor='lightgray'),\n",
    "               alpha=.5,\n",
    "               zorder=0)\n",
    "hdcc.plot(markersize=5, ax=ax)\n",
    "ax.set_title(f'Anuario de Aforos\\n{hdcc.shape[0]} reservoirs')\n",
    "ax.set_extent([-10, 4.5, 35.5, 44])\n",
    "ax.axis('off');"
   ]
  },
  {
   "cell_type": "markdown",
   "id": "d7370645-04b8-4d5c-9a7c-110cbdc0330b",
   "metadata": {},
   "source": [
    "## CEDEX"
   ]
  },
  {
   "cell_type": "code",
   "execution_count": 8,
   "id": "b84276bb-8b51-48f1-985c-cad1502e170c",
   "metadata": {},
   "outputs": [],
   "source": [
    "path_cedex = path_datasets / 'CEDEX' / 'processed' / 'reservoirs' "
   ]
  },
  {
   "cell_type": "markdown",
   "id": "011afccc-5c7d-44e1-9faa-f9e566aefb01",
   "metadata": {},
   "source": [
    "### Reservoir attributes\n",
    "\n",
    "There are several attributes of interest in this table:\n",
    "\n",
    "* Coordinates.\n",
    "* Reservoir volume: both total and live volume.\n",
    "* Reservoir area.\n",
    "* Design reservoir levels.\n"
   ]
  },
  {
   "cell_type": "markdown",
   "id": "944b9c7e-21c0-4b7e-b90e-3fda972fc84c",
   "metadata": {},
   "source": [
    "***"
   ]
  },
  {
   "cell_type": "code",
   "execution_count": 9,
   "id": "90c08573-1466-4c1f-8220-95c39a0554d5",
   "metadata": {
    "tags": []
   },
   "outputs": [
    {
     "data": {
      "application/vnd.jupyter.widget-view+json": {
       "model_id": "f550da48f80542cfaa72e3bd59cbc73d",
       "version_major": 2,
       "version_minor": 0
      },
      "text/plain": [
       "  0%|          | 0/419 [00:00<?, ?it/s]"
      ]
     },
     "metadata": {},
     "output_type": "display_data"
    },
    {
     "name": "stdout",
     "output_type": "stream",
     "text": [
      "Imported from SNCZI 419 reservoirs and 19 attributes\n"
     ]
    }
   ],
   "source": [
    "cedex_res = pd.DataFrame(dtype='object')\n",
    "for file in tqdm(list((path_snczi / 'reservoirs').glob('*.xml'))):\n",
    "    ID = int(file.stem)\n",
    "    try:\n",
    "        cedex_res = pd.concat((cedex_res, reservoir_attributes(str(file), name=ID)), axis=1)\n",
    "    except:\n",
    "        print(f'File {file} could not be read')\n",
    "\n",
    "cedex_res = cedex_res.transpose()\n",
    "cedex_res.index.name = 'SNCZI'\n",
    "cedex_res['Código del embalse'] = cedex_res['Código del embalse'].astype(int)\n",
    "\n",
    "print('Imported from SNCZI {0} reservoirs and {1} attributes'.format(*cedex_res.shape))"
   ]
  },
  {
   "cell_type": "code",
   "execution_count": 10,
   "id": "40b0f810-cd47-4d2c-98ff-b8e9a556a351",
   "metadata": {
    "tags": []
   },
   "outputs": [
    {
     "data": {
      "text/html": [
       "<div>\n",
       "<style scoped>\n",
       "    .dataframe tbody tr th:only-of-type {\n",
       "        vertical-align: middle;\n",
       "    }\n",
       "\n",
       "    .dataframe tbody tr th {\n",
       "        vertical-align: top;\n",
       "    }\n",
       "\n",
       "    .dataframe thead th {\n",
       "        text-align: right;\n",
       "    }\n",
       "</style>\n",
       "<table border=\"1\" class=\"dataframe\">\n",
       "  <thead>\n",
       "    <tr style=\"text-align: right;\">\n",
       "      <th></th>\n",
       "      <th>Código del embalse</th>\n",
       "      <th>Nombre del embalse</th>\n",
       "      <th>Titular del embalse</th>\n",
       "      <th>Coord. X ETRS89</th>\n",
       "      <th>Coord. Y ETRS89</th>\n",
       "      <th>Coord. X UTM ETRS89 Huso 30</th>\n",
       "      <th>Coord. Y UTM ETRS89 Huso 30</th>\n",
       "      <th>Coord. X Manual</th>\n",
       "      <th>Coord. Y Manual</th>\n",
       "      <th>Volumen útil (m3)</th>\n",
       "      <th>Volumen total (m3)</th>\n",
       "      <th>Superficie del embalse (has)</th>\n",
       "      <th>Máximo nivel de avenida (m)</th>\n",
       "      <th>Máximo nivel normal del embalse (m)</th>\n",
       "      <th>Municipio</th>\n",
       "      <th>Id. Hoja 1:50.000</th>\n",
       "      <th>Cauce</th>\n",
       "      <th>Código de infraestructura</th>\n",
       "      <th>Nombre de la presa</th>\n",
       "    </tr>\n",
       "    <tr>\n",
       "      <th>SNCZI</th>\n",
       "      <th></th>\n",
       "      <th></th>\n",
       "      <th></th>\n",
       "      <th></th>\n",
       "      <th></th>\n",
       "      <th></th>\n",
       "      <th></th>\n",
       "      <th></th>\n",
       "      <th></th>\n",
       "      <th></th>\n",
       "      <th></th>\n",
       "      <th></th>\n",
       "      <th></th>\n",
       "      <th></th>\n",
       "      <th></th>\n",
       "      <th></th>\n",
       "      <th></th>\n",
       "      <th></th>\n",
       "      <th></th>\n",
       "    </tr>\n",
       "  </thead>\n",
       "  <tbody>\n",
       "    <tr>\n",
       "      <th>10</th>\n",
       "      <td>10</td>\n",
       "      <td>ACEÑA. LA</td>\n",
       "      <td>CANAL DE ISABEL II</td>\n",
       "      <td>-4.220934</td>\n",
       "      <td>40.62275</td>\n",
       "      <td>396733.0</td>\n",
       "      <td>4497597.0</td>\n",
       "      <td>396709.0</td>\n",
       "      <td>4497212.0</td>\n",
       "      <td>23.0</td>\n",
       "      <td>24.0</td>\n",
       "      <td>115.0</td>\n",
       "      <td>NaN</td>\n",
       "      <td>1316.1</td>\n",
       "      <td>Peguerinos</td>\n",
       "      <td>532.0</td>\n",
       "      <td>RÍO DE LA ACEÑA</td>\n",
       "      <td>3050006.0</td>\n",
       "      <td>ACEÑA. LA</td>\n",
       "    </tr>\n",
       "    <tr>\n",
       "      <th>25</th>\n",
       "      <td>25</td>\n",
       "      <td>AGRIO. EL</td>\n",
       "      <td>CONFEDERACION HIDROGRAFICA DEL GUADALQUIVIR</td>\n",
       "      <td>-6.303079</td>\n",
       "      <td>37.551047</td>\n",
       "      <td>208198.0</td>\n",
       "      <td>4161134.0</td>\n",
       "      <td>208198.0</td>\n",
       "      <td>4161134.0</td>\n",
       "      <td>NaN</td>\n",
       "      <td>20.0</td>\n",
       "      <td>167.0</td>\n",
       "      <td>NaN</td>\n",
       "      <td>98.08</td>\n",
       "      <td>Aznalcóllar</td>\n",
       "      <td>961.0</td>\n",
       "      <td>RÍO  CRISPINEJO O AGRIO</td>\n",
       "      <td>5410123.0</td>\n",
       "      <td>AGRIO. EL</td>\n",
       "    </tr>\n",
       "    <tr>\n",
       "      <th>32</th>\n",
       "      <td>32</td>\n",
       "      <td>AGUASCEBAS</td>\n",
       "      <td>CONFEDERACION HIDROGRAFICA DEL GUADALQUIVIR</td>\n",
       "      <td>-2.948253</td>\n",
       "      <td>38.044651</td>\n",
       "      <td>504540.0</td>\n",
       "      <td>4210770.0</td>\n",
       "      <td>504217.0</td>\n",
       "      <td>4210816.0</td>\n",
       "      <td>NaN</td>\n",
       "      <td>6.0</td>\n",
       "      <td>43.0</td>\n",
       "      <td>NaN</td>\n",
       "      <td>1016.0</td>\n",
       "      <td>Villacarrillo</td>\n",
       "      <td>907.0</td>\n",
       "      <td>ARROYO DE LAS AGUASCEBAS CHICO</td>\n",
       "      <td>5230013.0</td>\n",
       "      <td>AGUASCEBAS</td>\n",
       "    </tr>\n",
       "    <tr>\n",
       "      <th>33</th>\n",
       "      <td>33</td>\n",
       "      <td>ÁGUEDA</td>\n",
       "      <td>CONFEDERACION HIDROGRAFICA DEL DUERO</td>\n",
       "      <td>-6.485781</td>\n",
       "      <td>40.513474</td>\n",
       "      <td>204667.0</td>\n",
       "      <td>4490590.0</td>\n",
       "      <td>713314.0</td>\n",
       "      <td>4489612.0</td>\n",
       "      <td>22.0</td>\n",
       "      <td>22.0</td>\n",
       "      <td>177.0</td>\n",
       "      <td>NaN</td>\n",
       "      <td>NaN</td>\n",
       "      <td>Martiago</td>\n",
       "      <td>526.0</td>\n",
       "      <td>RÍO ÁGUEDA</td>\n",
       "      <td>2370021.0</td>\n",
       "      <td>ÁGUEDA</td>\n",
       "    </tr>\n",
       "    <tr>\n",
       "      <th>36</th>\n",
       "      <td>36</td>\n",
       "      <td>AGUILAR DE CAMPOO</td>\n",
       "      <td>CONFEDERACION HIDROGRAFICA DEL DUERO</td>\n",
       "      <td>-4.331498</td>\n",
       "      <td>42.815946</td>\n",
       "      <td>391148.0</td>\n",
       "      <td>4741236.0</td>\n",
       "      <td>391148.0</td>\n",
       "      <td>4741236.0</td>\n",
       "      <td>242.0</td>\n",
       "      <td>247.0</td>\n",
       "      <td>1646.0</td>\n",
       "      <td>NaN</td>\n",
       "      <td>942.0</td>\n",
       "      <td>Aguilar de Campoo</td>\n",
       "      <td>107.0</td>\n",
       "      <td>RÍO PISUERGA</td>\n",
       "      <td>2340004.0</td>\n",
       "      <td>AGUILAR DE CAMPOO</td>\n",
       "    </tr>\n",
       "    <tr>\n",
       "      <th>...</th>\n",
       "      <td>...</td>\n",
       "      <td>...</td>\n",
       "      <td>...</td>\n",
       "      <td>...</td>\n",
       "      <td>...</td>\n",
       "      <td>...</td>\n",
       "      <td>...</td>\n",
       "      <td>...</td>\n",
       "      <td>...</td>\n",
       "      <td>...</td>\n",
       "      <td>...</td>\n",
       "      <td>...</td>\n",
       "      <td>...</td>\n",
       "      <td>...</td>\n",
       "      <td>...</td>\n",
       "      <td>...</td>\n",
       "      <td>...</td>\n",
       "      <td>...</td>\n",
       "      <td>...</td>\n",
       "    </tr>\n",
       "    <tr>\n",
       "      <th>2717</th>\n",
       "      <td>2717</td>\n",
       "      <td>CAIN</td>\n",
       "      <td>EON GENERACION</td>\n",
       "      <td>-4.900769</td>\n",
       "      <td>43.216776</td>\n",
       "      <td>345615.0</td>\n",
       "      <td>4786642.0</td>\n",
       "      <td>NaN</td>\n",
       "      <td>NaN</td>\n",
       "      <td>NaN</td>\n",
       "      <td>0.0</td>\n",
       "      <td>0.0</td>\n",
       "      <td>NaN</td>\n",
       "      <td>439.6</td>\n",
       "      <td>Posada de Valdeón</td>\n",
       "      <td>55.0</td>\n",
       "      <td>RÍO CARES</td>\n",
       "      <td>18240001.0</td>\n",
       "      <td>CAÍN</td>\n",
       "    </tr>\n",
       "    <tr>\n",
       "      <th>3184</th>\n",
       "      <td>3184</td>\n",
       "      <td>SAN GREGORIO (ACEQUIA DE ONTIÑENA)</td>\n",
       "      <td>ESTADO</td>\n",
       "      <td>0.039683</td>\n",
       "      <td>41.598715</td>\n",
       "      <td>753329.0</td>\n",
       "      <td>4609687.0</td>\n",
       "      <td>NaN</td>\n",
       "      <td>NaN</td>\n",
       "      <td>NaN</td>\n",
       "      <td>0.0</td>\n",
       "      <td>NaN</td>\n",
       "      <td>NaN</td>\n",
       "      <td>361.85</td>\n",
       "      <td>Ontiñena</td>\n",
       "      <td>386.0</td>\n",
       "      <td>BARRANCO DE ISIDORO</td>\n",
       "      <td>9220108.0</td>\n",
       "      <td>SAN GREGORIO</td>\n",
       "    </tr>\n",
       "    <tr>\n",
       "      <th>3229</th>\n",
       "      <td>3229</td>\n",
       "      <td>ARENAS DE CABRALES (SALTO)</td>\n",
       "      <td>NaN</td>\n",
       "      <td>-4.811843</td>\n",
       "      <td>43.300663</td>\n",
       "      <td>353040.0</td>\n",
       "      <td>4795798.0</td>\n",
       "      <td>NaN</td>\n",
       "      <td>NaN</td>\n",
       "      <td>NaN</td>\n",
       "      <td>NaN</td>\n",
       "      <td>NaN</td>\n",
       "      <td>NaN</td>\n",
       "      <td>NaN</td>\n",
       "      <td>Cabrales</td>\n",
       "      <td>56.0</td>\n",
       "      <td>NaN</td>\n",
       "      <td>NaN</td>\n",
       "      <td>NaN</td>\n",
       "    </tr>\n",
       "    <tr>\n",
       "      <th>3259</th>\n",
       "      <td>3259</td>\n",
       "      <td>FRESNEDA. LA</td>\n",
       "      <td>NaN</td>\n",
       "      <td>-3.675855</td>\n",
       "      <td>38.611393</td>\n",
       "      <td>441157.0</td>\n",
       "      <td>4273870.0</td>\n",
       "      <td>NaN</td>\n",
       "      <td>NaN</td>\n",
       "      <td>NaN</td>\n",
       "      <td>NaN</td>\n",
       "      <td>NaN</td>\n",
       "      <td>NaN</td>\n",
       "      <td>NaN</td>\n",
       "      <td>Calzada de Calatrava</td>\n",
       "      <td>837.0</td>\n",
       "      <td>NaN</td>\n",
       "      <td>NaN</td>\n",
       "      <td>NaN</td>\n",
       "    </tr>\n",
       "    <tr>\n",
       "      <th>3499</th>\n",
       "      <td>3499</td>\n",
       "      <td>La Concepción</td>\n",
       "      <td>JUNTA DE ANDALUCIA AGENCIA ANDALUZA DEL AGUA</td>\n",
       "      <td>-4.961492</td>\n",
       "      <td>36.538526</td>\n",
       "      <td>324415.0</td>\n",
       "      <td>4045471.0</td>\n",
       "      <td>NaN</td>\n",
       "      <td>NaN</td>\n",
       "      <td>NaN</td>\n",
       "      <td>184.0</td>\n",
       "      <td>4337.0</td>\n",
       "      <td>NaN</td>\n",
       "      <td>137.0</td>\n",
       "      <td>Istán</td>\n",
       "      <td>1065.0</td>\n",
       "      <td>NaN</td>\n",
       "      <td>6290031.0</td>\n",
       "      <td>La concepción</td>\n",
       "    </tr>\n",
       "  </tbody>\n",
       "</table>\n",
       "<p>419 rows × 19 columns</p>\n",
       "</div>"
      ],
      "text/plain": [
       "       Código del embalse                  Nombre del embalse  \\\n",
       "SNCZI                                                           \n",
       "10                     10                           ACEÑA. LA   \n",
       "25                     25                           AGRIO. EL   \n",
       "32                     32                          AGUASCEBAS   \n",
       "33                     33                              ÁGUEDA   \n",
       "36                     36                   AGUILAR DE CAMPOO   \n",
       "...                   ...                                 ...   \n",
       "2717                 2717                                CAIN   \n",
       "3184                 3184  SAN GREGORIO (ACEQUIA DE ONTIÑENA)   \n",
       "3229                 3229          ARENAS DE CABRALES (SALTO)   \n",
       "3259                 3259                        FRESNEDA. LA   \n",
       "3499                 3499                       La Concepción   \n",
       "\n",
       "                                Titular del embalse Coord. X ETRS89  \\\n",
       "SNCZI                                                                 \n",
       "10                               CANAL DE ISABEL II       -4.220934   \n",
       "25      CONFEDERACION HIDROGRAFICA DEL GUADALQUIVIR       -6.303079   \n",
       "32      CONFEDERACION HIDROGRAFICA DEL GUADALQUIVIR       -2.948253   \n",
       "33             CONFEDERACION HIDROGRAFICA DEL DUERO       -6.485781   \n",
       "36             CONFEDERACION HIDROGRAFICA DEL DUERO       -4.331498   \n",
       "...                                             ...             ...   \n",
       "2717                                 EON GENERACION       -4.900769   \n",
       "3184                                         ESTADO        0.039683   \n",
       "3229                                            NaN       -4.811843   \n",
       "3259                                            NaN       -3.675855   \n",
       "3499   JUNTA DE ANDALUCIA AGENCIA ANDALUZA DEL AGUA       -4.961492   \n",
       "\n",
       "      Coord. Y ETRS89 Coord. X UTM ETRS89 Huso 30 Coord. Y UTM ETRS89 Huso 30  \\\n",
       "SNCZI                                                                           \n",
       "10           40.62275                    396733.0                   4497597.0   \n",
       "25          37.551047                    208198.0                   4161134.0   \n",
       "32          38.044651                    504540.0                   4210770.0   \n",
       "33          40.513474                    204667.0                   4490590.0   \n",
       "36          42.815946                    391148.0                   4741236.0   \n",
       "...               ...                         ...                         ...   \n",
       "2717        43.216776                    345615.0                   4786642.0   \n",
       "3184        41.598715                    753329.0                   4609687.0   \n",
       "3229        43.300663                    353040.0                   4795798.0   \n",
       "3259        38.611393                    441157.0                   4273870.0   \n",
       "3499        36.538526                    324415.0                   4045471.0   \n",
       "\n",
       "      Coord. X Manual Coord. Y Manual Volumen útil (m3) Volumen total (m3)  \\\n",
       "SNCZI                                                                        \n",
       "10           396709.0       4497212.0              23.0               24.0   \n",
       "25           208198.0       4161134.0               NaN               20.0   \n",
       "32           504217.0       4210816.0               NaN                6.0   \n",
       "33           713314.0       4489612.0              22.0               22.0   \n",
       "36           391148.0       4741236.0             242.0              247.0   \n",
       "...               ...             ...               ...                ...   \n",
       "2717              NaN             NaN               NaN                0.0   \n",
       "3184              NaN             NaN               NaN                0.0   \n",
       "3229              NaN             NaN               NaN                NaN   \n",
       "3259              NaN             NaN               NaN                NaN   \n",
       "3499              NaN             NaN               NaN              184.0   \n",
       "\n",
       "      Superficie del embalse (has) Máximo nivel de avenida (m)  \\\n",
       "SNCZI                                                            \n",
       "10                           115.0                         NaN   \n",
       "25                           167.0                         NaN   \n",
       "32                            43.0                         NaN   \n",
       "33                           177.0                         NaN   \n",
       "36                          1646.0                         NaN   \n",
       "...                            ...                         ...   \n",
       "2717                           0.0                         NaN   \n",
       "3184                           NaN                         NaN   \n",
       "3229                           NaN                         NaN   \n",
       "3259                           NaN                         NaN   \n",
       "3499                        4337.0                         NaN   \n",
       "\n",
       "      Máximo nivel normal del embalse (m)             Municipio  \\\n",
       "SNCZI                                                             \n",
       "10                                 1316.1            Peguerinos   \n",
       "25                                  98.08           Aznalcóllar   \n",
       "32                                 1016.0         Villacarrillo   \n",
       "33                                    NaN              Martiago   \n",
       "36                                  942.0     Aguilar de Campoo   \n",
       "...                                   ...                   ...   \n",
       "2717                                439.6     Posada de Valdeón   \n",
       "3184                               361.85              Ontiñena   \n",
       "3229                                  NaN              Cabrales   \n",
       "3259                                  NaN  Calzada de Calatrava   \n",
       "3499                                137.0                 Istán   \n",
       "\n",
       "      Id. Hoja 1:50.000                           Cauce  \\\n",
       "SNCZI                                                     \n",
       "10                532.0                 RÍO DE LA ACEÑA   \n",
       "25                961.0         RÍO  CRISPINEJO O AGRIO   \n",
       "32                907.0  ARROYO DE LAS AGUASCEBAS CHICO   \n",
       "33                526.0                      RÍO ÁGUEDA   \n",
       "36                107.0                    RÍO PISUERGA   \n",
       "...                 ...                             ...   \n",
       "2717               55.0                       RÍO CARES   \n",
       "3184              386.0             BARRANCO DE ISIDORO   \n",
       "3229               56.0                             NaN   \n",
       "3259              837.0                             NaN   \n",
       "3499             1065.0                             NaN   \n",
       "\n",
       "      Código de infraestructura Nombre de la presa  \n",
       "SNCZI                                               \n",
       "10                    3050006.0          ACEÑA. LA  \n",
       "25                    5410123.0          AGRIO. EL  \n",
       "32                    5230013.0         AGUASCEBAS  \n",
       "33                    2370021.0             ÁGUEDA  \n",
       "36                    2340004.0  AGUILAR DE CAMPOO  \n",
       "...                         ...                ...  \n",
       "2717                 18240001.0               CAÍN  \n",
       "3184                  9220108.0       SAN GREGORIO  \n",
       "3229                        NaN                NaN  \n",
       "3259                        NaN                NaN  \n",
       "3499                  6290031.0      La concepción  \n",
       "\n",
       "[419 rows x 19 columns]"
      ]
     },
     "execution_count": 10,
     "metadata": {},
     "output_type": "execute_result"
    }
   ],
   "source": [
    "cedex_res"
   ]
  },
  {
   "cell_type": "markdown",
   "id": "cac99412-8522-409e-baac-22a8fbf22da7",
   "metadata": {},
   "source": [
    "***"
   ]
  },
  {
   "cell_type": "code",
   "execution_count": null,
   "id": "0f2183fa-dfd1-4a85-b122-74c687f573ab",
   "metadata": {},
   "outputs": [],
   "source": []
  },
  {
   "cell_type": "code",
   "execution_count": 11,
   "id": "72667c3a-8c08-45a3-8159-b3385fa7c6ed",
   "metadata": {},
   "outputs": [],
   "source": [
    "# load data\n",
    "cedex_res = pd.read_csv(path_cedex / 'attributes' / 'attributes_reservoirs.csv', index_col='ref_ceh')\n",
    "cedex_res.index.name = 'Local_ID'\n",
    "cedex_res['Código del embalse'] = cedex_res['Código del embalse'].astype(int)"
   ]
  },
  {
   "cell_type": "code",
   "execution_count": 12,
   "id": "31dba00b-032a-435a-91e2-e4d6f8c651a1",
   "metadata": {},
   "outputs": [],
   "source": [
    "# rename columns\n",
    "rename_cols = {'Código del embalse': 'res_ID',\n",
    "               'Nombre del embalse': 'res_name',\n",
    "               'Titular del embalse': 'owner',\n",
    "               'Coord. X ETRS89': 'lon', # longitude\n",
    "               'Coord. Y ETRS89': 'lat', # latitud\n",
    "               'Coord. X UTM ETRS89 Huso 30': 'X',\n",
    "               'Coord. Y UTM ETRS89 Huso 30': 'Y',\n",
    "               'Coord. X Manual': 'X_manual',\n",
    "               'Coord. Y Manual': 'Y_manual',\n",
    "               'Volumen útil (m3)': 'V_live',\n",
    "               'Volumen total (m3)': 'V_total',\n",
    "               'Superficie del embalse (has)': 'AREA',\n",
    "               'Máximo nivel de avenida (m)': 'EFL', # Extreme Flood Level\n",
    "               'Máximo nivel normal del embalse (m)': 'MNL', # Maximum Normal Level\n",
    "               'Municipio': 'town', \n",
    "               # 'Id. Hoja 1:50.000',\n",
    "               'Cauce': 'river', \n",
    "               'Código de infraestructura': 'inf_ID', \n",
    "               'Nombre de la presa': 'dam_name'}\n",
    "cedex_res.rename(columns=rename_cols, inplace=True)\n",
    "\n",
    "\n",
    "# convert reservoir area to km2\n",
    "cedex_res.AREA /= 100,"
   ]
  },
  {
   "cell_type": "code",
   "execution_count": 13,
   "id": "2a65d0d6-1912-4a23-b05b-2a86f26e99f2",
   "metadata": {},
   "outputs": [
    {
     "data": {
      "text/plain": [
       "(387, 19)"
      ]
     },
     "execution_count": 13,
     "metadata": {},
     "output_type": "execute_result"
    }
   ],
   "source": [
    "cedex_res.shape"
   ]
  },
  {
   "cell_type": "markdown",
   "id": "914e15f9-4b2f-4149-aada-d8db85dd52bc",
   "metadata": {},
   "source": [
    "### Dam attributes\n",
    "\n",
    "This dataset contains multiple attributes of interes:\n",
    "\n",
    "* Date of construction.\n",
    "* Coordinates.\n",
    "* Reservoir use.\n",
    "* Catchment area.\n",
    "* Reservoir level, surface and volume at the maximum normal level (MNL).\n",
    "* Elevation of river, foundation, crest.\n",
    "* Number of outlets (spillways and sluices) and their discharge capacity."
   ]
  },
  {
   "cell_type": "code",
   "execution_count": 14,
   "id": "aa635e72-c2de-446f-9203-2f10e2e7961c",
   "metadata": {},
   "outputs": [],
   "source": [
    "# load data\n",
    "cedex_dam = pd.read_csv(path_cedex / 'attributes' / 'attributes_dams.csv', index_col='ref_ceh')\n",
    "cedex_dam.index.name = 'Local_ID'\n",
    "\n",
    "# rename columns\n",
    "rename_cols = {'Nombre de la presa': 'dam_name',\n",
    "               'Otro Nombre': 'other_name',\n",
    "               'Fase vida presa': 'phase',\n",
    "               'Titular de la presa': 'owner',\n",
    "               'Proyectista': 'designer',\n",
    "               'Categoría en función del riesgo potencial': 'category',\n",
    "               'Aprobación de las normas de explotación': 'date_exploitation_plan',\n",
    "               'Aprobación del plan de emergencia': 'date_emergency_plan',\n",
    "               'Fecha de finalización de las obras': 'date_construction',\n",
    "               'Río en el que se encuentra la presa': 'river', \n",
    "               'Municipio': 'town',\n",
    "               'Cuenca hidrográfica': 'basin', \n",
    "               'Provincia': 'province', \n",
    "               'X-UTM30ETRS89': 'X', \n",
    "               'Y-UTM30ETRS89': 'Y',\n",
    "               'Usuarios': 'users', \n",
    "               'Tipos': 'use', \n",
    "               'Superficie de la cuenca hidrográfica (km2)': 'catch_area',\n",
    "               'Aportación media anual (hm3)': 'inflow', \n",
    "               'Precipitación media anual (mm)': 'precip',\n",
    "               'Caudal punta avenida de proyecto (m3/s)': 'Q_design',\n",
    "               'Superficie del embalse a NMN (ha)': 'A_MNL', # Nivel Máximo Normal => Maximum Normal Level\n",
    "               'Capacidad a NMN (hm3)': 'V_MNL',\n",
    "               'Cota del NMN (m)': 'Z_MNL', \n",
    "               'Tipo de presa': 'type', \n",
    "               'Cota coronación (m)': 'Z_crest',\n",
    "               'Altura desde cimientos (m)': 'height', \n",
    "               'Longitud de coronación (m)': 'len_crest',\n",
    "               'Cota cimentación (m)': 'Z_foundation', \n",
    "               'Cota del cauce en la presa (m)': 'Z_river',\n",
    "               'Volumen del cuerpo presa (1000 m3)': 'dam_vol',\n",
    "               'Número total de aliviaderos en la presa': 'no_spill', \n",
    "               'Regulación': 'regulation',\n",
    "               'Capacidad a NAE (m3/s)': 'Qspill_EFL', # Nivel de Avenida Extrema => Extreme Flood Level\n",
    "               'Número total de desagües en la presa': 'no_sluice',\n",
    "               'Capacidad (m3/s)': 'Qsluice'}\n",
    "cedex_dam.rename(columns=rename_cols, inplace=True)\n",
    "\n",
    "# convert to date\n",
    "for col in cedex_dam.columns[cedex_dam.columns.str.startswith('date')]:\n",
    "    cedex_dam[col] = pd.to_datetime(cedex_dam[col], format='%d-%m-%Y', errors='coerce')\n",
    "\n",
    "# convert reservoir area to km2\n",
    "cedex_dam.A_MNL /= 100"
   ]
  },
  {
   "cell_type": "markdown",
   "id": "35c309a3-f0e8-4b95-8c1d-4006e70a36b0",
   "metadata": {},
   "source": [
    "### Reservoir use"
   ]
  },
  {
   "cell_type": "code",
   "execution_count": 15,
   "id": "06d2fe40-65a3-4fc1-8cbe-14c1f3977290",
   "metadata": {},
   "outputs": [],
   "source": [
    "# analyse reservoir use:\n",
    "# 1. I will suppose that the the first use in the dataset is the `main_use`\n",
    "# 2. I create a `single_use` field to identify single-purpose and multipurpose reservoirs\n",
    "# 3. I create a one hot encoder class with all the possible reservoir uses\n",
    "\n",
    "cedex_dam.use = cedex_dam.use.replace(np.nan, '')\n",
    "\n",
    "rename_uses_cedex = {'': 'other',\n",
    "                     'Abastecimiento': 'supply',\n",
    "                     'Acuicultura': 'fish',\n",
    "                     'Adecuación ambiental': 'environment',\n",
    "                     'Defensa frente avenidas': 'flood',\n",
    "                     'Ganadero': 'livestock',\n",
    "                     'Hidroeléctrico': 'hydropower',\n",
    "                     'Industrial': 'industry',\n",
    "                     'Minería': 'mining',\n",
    "                     'Recreo': 'recreation',\n",
    "                     'Regulación': 'regulation',\n",
    "                     'Riego': 'irrigation',\n",
    "                     'Trasvase': 'diversion'}\n",
    "\n",
    "cedex_dam['main_use'] = ''\n",
    "cedex_dam['single_use'] = True\n",
    "cedex_uses = list(rename_uses_cedex.values())\n",
    "# cedex_uses.remove('')\n",
    "cedex_uses.sort()\n",
    "cedex_dam[cedex_uses] = False\n",
    "for ID in cedex_dam.index:\n",
    "    uses_i = cedex_dam.loc[ID, 'use'].split('. ')\n",
    "    # if '' in uses_i:\n",
    "    #     uses_i.remove('')\n",
    "    if len(uses_i) > 0:\n",
    "        for i, use in enumerate(uses_i):\n",
    "            use = rename_uses_cedex[use]\n",
    "            if i == 0:\n",
    "                cedex_dam.loc[ID, 'main_use'] = use\n",
    "            cedex_dam.loc[ID, use] = True\n",
    "\n",
    "# identify multi-purpose reservoirs\n",
    "mask_multiuse = cedex_dam[cedex_uses].sum(axis=1) > 1\n",
    "cedex_dam.loc[mask_multiuse, 'single_use'] = False\n",
    "\n",
    "# remove original 'use' field\n",
    "# cedex_dam.drop('use', axis=1, inplace=True)"
   ]
  },
  {
   "cell_type": "markdown",
   "id": "0397d688-61b3-4812-a297-b996225b8bdb",
   "metadata": {},
   "source": [
    "**Main use**"
   ]
  },
  {
   "cell_type": "code",
   "execution_count": 16,
   "id": "f0dd3d2c-b1e9-42d8-a46c-1eeba25f1dbb",
   "metadata": {},
   "outputs": [],
   "source": [
    "mainuse_singlepurpose = cedex_dam.loc[cedex_dam.single_use, 'main_use'].value_counts()\n",
    "mainuse_multipurpose = cedex_dam['main_use'].value_counts()\n",
    "mainuse_summary_cedex = pd.concat((mainuse_singlepurpose, mainuse_multipurpose), axis=1)\n",
    "mainuse_summary_cedex.columns = ['singlepurpose', 'multipurpose']\n",
    "mainuse_summary_cedex.sort_values('multipurpose', ascending=False, inplace=True)\n",
    "del mainuse_singlepurpose, mainuse_multipurpose"
   ]
  },
  {
   "cell_type": "markdown",
   "id": "41af2815-9322-47da-aa3f-a2d0ed787912",
   "metadata": {},
   "source": [
    "**All uses**"
   ]
  },
  {
   "cell_type": "code",
   "execution_count": 17,
   "id": "9ee00ce5-f9fa-410e-a2e5-bef2b623818a",
   "metadata": {},
   "outputs": [],
   "source": [
    "alluses_singlepurpose = cedex_dam.loc[cedex_dam.single_use, cedex_uses].sum()\n",
    "alluses_multipurpose = cedex_dam[cedex_uses].sum()\n",
    "alluses_summary_cedex = pd.concat((alluses_singlepurpose, alluses_multipurpose), axis=1)\n",
    "alluses_summary_cedex.columns = ['singlepurpose', 'multipurpose']\n",
    "alluses_summary_cedex.sort_values('multipurpose', ascending=False, inplace=True)\n",
    "alluses_summary_cedex.dropna(axis=0, how='all', inplace=True)\n",
    "alluses_summary_cedex = alluses_summary_cedex[~(alluses_summary_cedex == 0).all(axis=1)]\n",
    "del alluses_singlepurpose, alluses_multipurpose"
   ]
  },
  {
   "cell_type": "markdown",
   "id": "5db8e823-94f3-40b4-a7b8-18622a0148f7",
   "metadata": {},
   "source": [
    "**Classify hydropower reservoirs**\n",
    "\n",
    "I will create a field called `HP_type` (hydropower type) to specify the importance of the hydropower use among all the uses of that reservoir. Codes:\n",
    "\n",
    "* 0: single purpose hydropower.\n",
    "* 1: multi-purpose in which hydropower is the main use.\n",
    "* 2: multi-purpose in which hydropower is the second use.\n",
    "* 3: multi-purpose in which hydropower is the third use.\n",
    "* N: multi-purpose in which hydropower is the Nth use."
   ]
  },
  {
   "cell_type": "markdown",
   "id": "e1d672ba-be04-48b8-a8b4-e458e74c10f3",
   "metadata": {},
   "source": [
    "```Python\n",
    "cedex_dam['HP_type'] = np.nan\n",
    "\n",
    "cedex_dam.loc[cedex_dam.single_use & cedex_dam.hydropower, 'HP_type'] = 0\n",
    "\n",
    "for ID in cedex_dam.loc[cedex_dam.hydropower].index:\n",
    "    if cedex_dam.loc[ID, 'single_use']:\n",
    "        continue\n",
    "    uses = [rename_uses_cedex[use] for use in cedex_dam.loc[ID, 'use'].split('. ')]\n",
    "    if 'hydropower' in uses:\n",
    "        cedex_dam.loc[ID, 'HP_type'] = uses.index('hydropower') + 1\n",
    "\n",
    "cedex_dam.HP_type.value_counts()\n",
    " ```"
   ]
  },
  {
   "cell_type": "markdown",
   "id": "011ac8f1-6b05-41d9-a0cd-77e0859dc752",
   "metadata": {},
   "source": [
    "**Total annual volume outflow (hm3)**"
   ]
  },
  {
   "cell_type": "markdown",
   "id": "5a810dc3-a935-4882-82c4-95d89291bb24",
   "metadata": {},
   "source": [
    "```Python\n",
    "outflows = pd.DataFrame(dtype=float)\n",
    "for ID in tqdm(cedex_dam.loc[cedex_dam.hydropower].index):\n",
    "    \n",
    "    # load time series\n",
    "    df = pd.read_csv(path_cedex / 'timeseries' / f'{ID}.csv', index_col='date')\n",
    "    df.index = pd.to_datetime(df.index)\n",
    "    if 'outflow' not in df.columns:\n",
    "        continue\n",
    "    \n",
    "    # compute annual total flow\n",
    "    outflow_y = df.loc[datetime(2010, 1, 1): datetime(2019, 12, 31), 'outflow'].resample('y').mean() * 365 * 24 * 3600 / 1e6\n",
    "    outflow_y.index = [f'outflow_{idx.year}' for idx in outflow_y.index]\n",
    "    outflow_y = outflow_y.to_frame(ID)\n",
    "    \n",
    "    # concatenate\n",
    "    outflows = pd.concat((outflows, outflow_y), axis=1)\n",
    "```"
   ]
  },
  {
   "cell_type": "markdown",
   "id": "f9a78624-483e-4efd-a881-22b3088c7949",
   "metadata": {},
   "source": [
    "### Connect HDCC and CEDEX\n",
    "The connection is direct using the common `Local_ID` field in both the HDCC and CEDEX data sets."
   ]
  },
  {
   "cell_type": "code",
   "execution_count": 18,
   "id": "4e47b08d-5629-4f1e-9332-c1fbc824d1f9",
   "metadata": {},
   "outputs": [],
   "source": [
    "# columns to be used from HDCC\n",
    "cols_hdcc = ['HDCC_ID', 'Name']\n",
    "\n",
    "# columns to be used from the inventory of dams in CEDEX\n",
    "cols_cedex_dam = ['date_construction',\n",
    "                  # catchment hydrology\n",
    "                  'catch_area', 'inflow', 'precip', 'Q_design', \n",
    "                  # reservoir geometry\n",
    "                  'A_MNL', 'V_MNL', 'Z_MNL', 'Z_crest', 'height', #'dam_vol', \n",
    "                  # reservoir regulation\n",
    "                  'no_spill', 'Qspill_EFL', 'regulation', 'no_sluice', 'Qsluice',\n",
    "                  # reservoir use\n",
    "                  'main_use', 'single_use', 'fish', 'diversion', 'environment', 'flood', 'hydropower', 'industry', 'irrigation', 'livestock',\n",
    "                  'mining', 'other', 'recreation', 'supply']\n",
    "\n",
    "# columns to be used from the inventory of reservoirs in CEDEX\n",
    "cols_cedex_res = ['V_live', 'V_total', 'AREA', 'EFL', 'MNL']\n",
    "\n",
    "# combine attributes from HDCC and CEDEX\n",
    "attributes_cedex = pd.concat((hdcc[cols_hdcc], cedex_dam[cols_cedex_dam], cedex_res[cols_cedex_res]), axis=1).sort_index(axis=1)"
   ]
  },
  {
   "cell_type": "markdown",
   "id": "9802a645-0d8a-48b2-a24d-682e397264b8",
   "metadata": {},
   "source": [
    "### Export"
   ]
  },
  {
   "cell_type": "code",
   "execution_count": 19,
   "id": "0f0edd43-8c95-41b5-bedc-dcf53aaa2ec4",
   "metadata": {},
   "outputs": [],
   "source": [
    "# attributes\n",
    "attributes_cedex.to_csv(path_out / 'attributes_CEDEX.csv')"
   ]
  },
  {
   "cell_type": "markdown",
   "id": "84c7e7c8-5d9a-4d71-9f3c-2b0c49936b3c",
   "metadata": {
    "tags": []
   },
   "source": [
    "## Hydropower Data Base (HPDB)"
   ]
  },
  {
   "cell_type": "markdown",
   "id": "2c185824-131a-4457-ab5e-a10188dfad86",
   "metadata": {},
   "source": [
    "```Python\n",
    "hpdb = pd.read_excel(path_datasets / 'reservoirs' / 'HPDB' / 'HPDB_Spain.xlsx', index_col='HPDB_id')\n",
    "hpdb.Name = hpdb.Name.str.upper()\n",
    "# # correct coordinates of \"La Muela\"\n",
    "# hpdb.loc['H4', ['Longitude', 'Latitude']] = [-0.92821, 39.23821]\n",
    "\n",
    "# rename columns\n",
    "rename_cols = {#'Name',\n",
    "               # 'country',\n",
    "               'Longitude': 'lon',\n",
    "               'Latitude': 'lat',\n",
    "               'HPDB_installed_capacity_MW': 'instal_cap',\n",
    "               'HPDB_pumping  capacity if it is a HPHS_MW': 'pump_cap',\n",
    "               'HPDB_type': 'type',\n",
    "               'HPDB_head_m': 'head_HPDB',\n",
    "               'head': 'head_src2',\n",
    "               'dam height (match from ICOLD o Vattenfal for Sweden)': 'dam_height',\n",
    "               'head (final)': 'head',\n",
    "               'HPDB_volume_Mm3': 'vol_HPDB',\n",
    "               'HPDB_volume_from ICOLD_Mm3': 'vol_ICOLD',\n",
    "               'HPDB_volume of reservoir_final_Mm3': 'volume',\n",
    "               'final energy generation GWh': 'energy',\n",
    "               'Annual volume discharged (a bit underestimated, because the used head is the maximum one) Mm3': 'vol_turb'\n",
    "              }\n",
    "hpdb.rename(columns=rename_cols, inplace=True)\n",
    "\n",
    "# filter dam hydropower plants\n",
    "hpdb = hpdb.loc[hpdb.type == 'HDAM']\n",
    "\n",
    "# convert into GeoDataFrame\n",
    "geometry = [Point(xy) for xy in zip(hpdb.lon, hpdb.lat)]\n",
    "hpdb = gpd.GeoDataFrame(hpdb, geometry=geometry, crs='epsg:4326')\n",
    "\n",
    "fig, ax = plt.subplots(subplot_kw=dict(projection=ccrs.PlateCarree()))\n",
    "ax.add_feature(cfeature.NaturalEarthFeature('physical', 'land', '10m', edgecolor='face', facecolor='lightgray'),\n",
    "               alpha=.5,\n",
    "               zorder=0)\n",
    "hpdb.plot(markersize=5, ax=ax)\n",
    "ax.set_title(f'Hydropower Batabase\\n{hpdb.shape[0]} reservoirs')\n",
    "ax.set_extent([-10, 4.5, 35.5, 44])\n",
    "ax.axis('off');\n",
    "```"
   ]
  },
  {
   "cell_type": "markdown",
   "id": "61744b30-2240-41bb-969a-10367d412e4f",
   "metadata": {},
   "source": [
    "**Connect HPDB with HDCC**"
   ]
  },
  {
   "cell_type": "markdown",
   "id": "459cacc7-bec2-41d4-bb6d-3ef081eb40de",
   "metadata": {
    "tags": []
   },
   "source": [
    "```Python\n",
    "# nearest neighbour in ICOLD for each point in HDCC\n",
    "idx_hpdb, idx_hdcc = hdcc.sindex.nearest(hpdb.geometry, max_distance=.1)\n",
    "\n",
    "# add ICOLD name and ID to the HDCC table\n",
    "hpdb.drop(['HDCC_ID', 'HDCC_Name'], axis=1, inplace=True, errors='ignore')\n",
    "idx_hpdb = hpdb.index[idx_hpdb]\n",
    "hpdb.loc[idx_hpdb, 'HDCC_ID'] = hdcc.iloc[idx_hdcc].index.values\n",
    "hpdb.loc[idx_hpdb, 'HDCC_Name'] = hdcc.iloc[idx_hdcc]['Name'].values\n",
    "\n",
    "(hpdb.Name == hpdb.HDCC_Name).sum()\n",
    "\n",
    "mask_name = hpdb.Name != hpdb.HDCC_Name\n",
    "hpdb.loc[mask_name, ['Name', 'HDCC_Name']].sort_values('Name').head(30)\n",
    "\n",
    "for col in hpdb.columns:\n",
    "    if len(col) > 10:\n",
    "        print(col)\n",
    "\n",
    "hpdb.to_file(path_datasets / 'reservoirs' / 'HPDB' / 'HPDB_Spain.shp')\n",
    "\n",
    "for ID in cedex_dam.index:\n",
    "    name = cedex_dam.loc[ID, 'dam_name']\n",
    "    if 'MUELA' in name:\n",
    "        print(ID, name)\n",
    "```"
   ]
  },
  {
   "cell_type": "markdown",
   "id": "b9ac3645-089d-45ac-84f8-040048fe6a03",
   "metadata": {},
   "source": [
    "## ICOLD"
   ]
  },
  {
   "cell_type": "code",
   "execution_count": 20,
   "id": "46059f62-b1b8-45bf-bdf7-e36544f00fa7",
   "metadata": {},
   "outputs": [
    {
     "data": {
      "image/png": "[encoded data removed]",
      "text/plain": [
       "<Figure size 640x480 with 1 Axes>"
      ]
     },
     "metadata": {},
     "output_type": "display_data"
    }
   ],
   "source": [
    "# import shapefile\n",
    "icold = gpd.read_file(path_datasets / 'reservoirs/ICOLD/2023/ICOLD_ES.shp')\n",
    "icold.reset_index(drop=True, inplace=True)\n",
    "\n",
    "# convert reservoir volume MCM (hm3)\n",
    "icold.Res_Vol /= 1000\n",
    "\n",
    "# convert reservoir area to km2\n",
    "icold.Res_Area /= 1000\n",
    "\n",
    "fig, ax = plt.subplots(subplot_kw=dict(projection=ccrs.PlateCarree()))\n",
    "ax.add_feature(cfeature.NaturalEarthFeature('physical', 'land', '10m', edgecolor='face', facecolor='lightgray'),\n",
    "               alpha=.5,\n",
    "               zorder=0)\n",
    "icold.plot(markersize=icold.Res_Vol**.5, alpha=.8, ax=ax, label=f'ICOLD ({icold.shape[0]})')\n",
    "hdcc.plot(markersize=1, ax=ax, label=f'HDCC ({hdcc.shape[0]})')\n",
    "# ax.set_extent([-10, 4.5, 35.5, 44])\n",
    "ax.legend(frameon=False)\n",
    "ax.axis('off');\n",
    "\n",
    "# # convert units to MCM (hm3)\n",
    "# icold_es.Res_Vol /= 1000\n",
    "\n",
    "# mask_volume = icold_es.Res_Vol > 10\n",
    "# print(f'no. reservoirs in Spain with V > 100 hm3:\\t{mask_volume.sum()}')"
   ]
  },
  {
   "cell_type": "markdown",
   "id": "5cade4cb-b4f0-448f-ac95-4a67ae65a5f5",
   "metadata": {},
   "source": [
    "### Connect HDCC and ICOLD"
   ]
  },
  {
   "cell_type": "code",
   "execution_count": 21,
   "id": "e6ef23ab-e3c8-46ce-8d80-3824ce083c90",
   "metadata": {},
   "outputs": [
    {
     "ename": "ValueError",
     "evalue": "invalid literal for int() with base 10: 'E14'",
     "output_type": "error",
     "traceback": [
      "\u001b[1;31m---------------------------------------------------------------------------\u001b[0m",
      "\u001b[1;31mTypeError\u001b[0m                                 Traceback (most recent call last)",
      "File \u001b[1;32mC:\\DEV\\Anaconda3\\envs\\res\\lib\\site-packages\\pandas\\core\\arrays\\integer.py:120\u001b[0m, in \u001b[0;36msafe_cast\u001b[1;34m(values, dtype, copy)\u001b[0m\n\u001b[0;32m    119\u001b[0m \u001b[38;5;28;01mtry\u001b[39;00m:\n\u001b[1;32m--> 120\u001b[0m     \u001b[38;5;28;01mreturn\u001b[39;00m \u001b[43mvalues\u001b[49m\u001b[38;5;241;43m.\u001b[39;49m\u001b[43mastype\u001b[49m\u001b[43m(\u001b[49m\u001b[43mdtype\u001b[49m\u001b[43m,\u001b[49m\u001b[43m \u001b[49m\u001b[43mcasting\u001b[49m\u001b[38;5;241;43m=\u001b[39;49m\u001b[38;5;124;43m\"\u001b[39;49m\u001b[38;5;124;43msafe\u001b[39;49m\u001b[38;5;124;43m\"\u001b[39;49m\u001b[43m,\u001b[49m\u001b[43m \u001b[49m\u001b[43mcopy\u001b[49m\u001b[38;5;241;43m=\u001b[39;49m\u001b[43mcopy\u001b[49m\u001b[43m)\u001b[49m\n\u001b[0;32m    121\u001b[0m \u001b[38;5;28;01mexcept\u001b[39;00m \u001b[38;5;167;01mTypeError\u001b[39;00m \u001b[38;5;28;01mas\u001b[39;00m err:\n",
      "\u001b[1;31mTypeError\u001b[0m: Cannot cast array data from dtype('O') to dtype('int64') according to the rule 'safe'",
      "\nDuring handling of the above exception, another exception occurred:\n",
      "\u001b[1;31mValueError\u001b[0m                                Traceback (most recent call last)",
      "Cell \u001b[1;32mIn [21], line 11\u001b[0m\n\u001b[0;32m      8\u001b[0m icold\u001b[38;5;241m.\u001b[39mloc[idx_icold, \u001b[38;5;124m'\u001b[39m\u001b[38;5;124mHDCC_Name\u001b[39m\u001b[38;5;124m'\u001b[39m] \u001b[38;5;241m=\u001b[39m hdcc\u001b[38;5;241m.\u001b[39mloc[idx_hdcc, \u001b[38;5;124m'\u001b[39m\u001b[38;5;124mName\u001b[39m\u001b[38;5;124m'\u001b[39m]\u001b[38;5;241m.\u001b[39mvalues\n\u001b[0;32m     10\u001b[0m \u001b[38;5;66;03m# convert 'Local_ID' to integer\u001b[39;00m\n\u001b[1;32m---> 11\u001b[0m icold\u001b[38;5;241m.\u001b[39mLocal_ID \u001b[38;5;241m=\u001b[39m \u001b[43micold\u001b[49m\u001b[38;5;241;43m.\u001b[39;49m\u001b[43mLocal_ID\u001b[49m\u001b[38;5;241;43m.\u001b[39;49m\u001b[43mastype\u001b[49m\u001b[43m(\u001b[49m\u001b[38;5;124;43m'\u001b[39;49m\u001b[38;5;124;43mInt64\u001b[39;49m\u001b[38;5;124;43m'\u001b[39;49m\u001b[43m)\u001b[49m\n\u001b[0;32m     13\u001b[0m \u001b[38;5;66;03m# set 'Local_ID' as index\u001b[39;00m\n\u001b[0;32m     14\u001b[0m icold\u001b[38;5;241m.\u001b[39mset_index(\u001b[38;5;124m'\u001b[39m\u001b[38;5;124mLocal_ID\u001b[39m\u001b[38;5;124m'\u001b[39m, inplace\u001b[38;5;241m=\u001b[39m\u001b[38;5;28;01mTrue\u001b[39;00m, drop\u001b[38;5;241m=\u001b[39m\u001b[38;5;28;01mTrue\u001b[39;00m)\n",
      "File \u001b[1;32mC:\\DEV\\Anaconda3\\envs\\res\\lib\\site-packages\\pandas\\core\\generic.py:5912\u001b[0m, in \u001b[0;36mNDFrame.astype\u001b[1;34m(self, dtype, copy, errors)\u001b[0m\n\u001b[0;32m   5905\u001b[0m     results \u001b[38;5;241m=\u001b[39m [\n\u001b[0;32m   5906\u001b[0m         \u001b[38;5;28mself\u001b[39m\u001b[38;5;241m.\u001b[39miloc[:, i]\u001b[38;5;241m.\u001b[39mastype(dtype, copy\u001b[38;5;241m=\u001b[39mcopy)\n\u001b[0;32m   5907\u001b[0m         \u001b[38;5;28;01mfor\u001b[39;00m i \u001b[38;5;129;01min\u001b[39;00m \u001b[38;5;28mrange\u001b[39m(\u001b[38;5;28mlen\u001b[39m(\u001b[38;5;28mself\u001b[39m\u001b[38;5;241m.\u001b[39mcolumns))\n\u001b[0;32m   5908\u001b[0m     ]\n\u001b[0;32m   5910\u001b[0m \u001b[38;5;28;01melse\u001b[39;00m:\n\u001b[0;32m   5911\u001b[0m     \u001b[38;5;66;03m# else, only a single dtype is given\u001b[39;00m\n\u001b[1;32m-> 5912\u001b[0m     new_data \u001b[38;5;241m=\u001b[39m \u001b[38;5;28;43mself\u001b[39;49m\u001b[38;5;241;43m.\u001b[39;49m\u001b[43m_mgr\u001b[49m\u001b[38;5;241;43m.\u001b[39;49m\u001b[43mastype\u001b[49m\u001b[43m(\u001b[49m\u001b[43mdtype\u001b[49m\u001b[38;5;241;43m=\u001b[39;49m\u001b[43mdtype\u001b[49m\u001b[43m,\u001b[49m\u001b[43m \u001b[49m\u001b[43mcopy\u001b[49m\u001b[38;5;241;43m=\u001b[39;49m\u001b[43mcopy\u001b[49m\u001b[43m,\u001b[49m\u001b[43m \u001b[49m\u001b[43merrors\u001b[49m\u001b[38;5;241;43m=\u001b[39;49m\u001b[43merrors\u001b[49m\u001b[43m)\u001b[49m\n\u001b[0;32m   5913\u001b[0m     \u001b[38;5;28;01mreturn\u001b[39;00m \u001b[38;5;28mself\u001b[39m\u001b[38;5;241m.\u001b[39m_constructor(new_data)\u001b[38;5;241m.\u001b[39m__finalize__(\u001b[38;5;28mself\u001b[39m, method\u001b[38;5;241m=\u001b[39m\u001b[38;5;124m\"\u001b[39m\u001b[38;5;124mastype\u001b[39m\u001b[38;5;124m\"\u001b[39m)\n\u001b[0;32m   5915\u001b[0m \u001b[38;5;66;03m# GH 33113: handle empty frame or series\u001b[39;00m\n",
      "File \u001b[1;32mC:\\DEV\\Anaconda3\\envs\\res\\lib\\site-packages\\pandas\\core\\internals\\managers.py:419\u001b[0m, in \u001b[0;36mBaseBlockManager.astype\u001b[1;34m(self, dtype, copy, errors)\u001b[0m\n\u001b[0;32m    418\u001b[0m \u001b[38;5;28;01mdef\u001b[39;00m \u001b[38;5;21mastype\u001b[39m(\u001b[38;5;28mself\u001b[39m: T, dtype, copy: \u001b[38;5;28mbool\u001b[39m \u001b[38;5;241m=\u001b[39m \u001b[38;5;28;01mFalse\u001b[39;00m, errors: \u001b[38;5;28mstr\u001b[39m \u001b[38;5;241m=\u001b[39m \u001b[38;5;124m\"\u001b[39m\u001b[38;5;124mraise\u001b[39m\u001b[38;5;124m\"\u001b[39m) \u001b[38;5;241m-\u001b[39m\u001b[38;5;241m>\u001b[39m T:\n\u001b[1;32m--> 419\u001b[0m     \u001b[38;5;28;01mreturn\u001b[39;00m \u001b[38;5;28;43mself\u001b[39;49m\u001b[38;5;241;43m.\u001b[39;49m\u001b[43mapply\u001b[49m\u001b[43m(\u001b[49m\u001b[38;5;124;43m\"\u001b[39;49m\u001b[38;5;124;43mastype\u001b[39;49m\u001b[38;5;124;43m\"\u001b[39;49m\u001b[43m,\u001b[49m\u001b[43m \u001b[49m\u001b[43mdtype\u001b[49m\u001b[38;5;241;43m=\u001b[39;49m\u001b[43mdtype\u001b[49m\u001b[43m,\u001b[49m\u001b[43m \u001b[49m\u001b[43mcopy\u001b[49m\u001b[38;5;241;43m=\u001b[39;49m\u001b[43mcopy\u001b[49m\u001b[43m,\u001b[49m\u001b[43m \u001b[49m\u001b[43merrors\u001b[49m\u001b[38;5;241;43m=\u001b[39;49m\u001b[43merrors\u001b[49m\u001b[43m)\u001b[49m\n",
      "File \u001b[1;32mC:\\DEV\\Anaconda3\\envs\\res\\lib\\site-packages\\pandas\\core\\internals\\managers.py:304\u001b[0m, in \u001b[0;36mBaseBlockManager.apply\u001b[1;34m(self, f, align_keys, ignore_failures, **kwargs)\u001b[0m\n\u001b[0;32m    302\u001b[0m         applied \u001b[38;5;241m=\u001b[39m b\u001b[38;5;241m.\u001b[39mapply(f, \u001b[38;5;241m*\u001b[39m\u001b[38;5;241m*\u001b[39mkwargs)\n\u001b[0;32m    303\u001b[0m     \u001b[38;5;28;01melse\u001b[39;00m:\n\u001b[1;32m--> 304\u001b[0m         applied \u001b[38;5;241m=\u001b[39m \u001b[38;5;28mgetattr\u001b[39m(b, f)(\u001b[38;5;241m*\u001b[39m\u001b[38;5;241m*\u001b[39mkwargs)\n\u001b[0;32m    305\u001b[0m \u001b[38;5;28;01mexcept\u001b[39;00m (\u001b[38;5;167;01mTypeError\u001b[39;00m, \u001b[38;5;167;01mNotImplementedError\u001b[39;00m):\n\u001b[0;32m    306\u001b[0m     \u001b[38;5;28;01mif\u001b[39;00m \u001b[38;5;129;01mnot\u001b[39;00m ignore_failures:\n",
      "File \u001b[1;32mC:\\DEV\\Anaconda3\\envs\\res\\lib\\site-packages\\pandas\\core\\internals\\blocks.py:580\u001b[0m, in \u001b[0;36mBlock.astype\u001b[1;34m(self, dtype, copy, errors)\u001b[0m\n\u001b[0;32m    562\u001b[0m \u001b[38;5;124;03m\"\"\"\u001b[39;00m\n\u001b[0;32m    563\u001b[0m \u001b[38;5;124;03mCoerce to the new dtype.\u001b[39;00m\n\u001b[0;32m    564\u001b[0m \n\u001b[1;32m   (...)\u001b[0m\n\u001b[0;32m    576\u001b[0m \u001b[38;5;124;03mBlock\u001b[39;00m\n\u001b[0;32m    577\u001b[0m \u001b[38;5;124;03m\"\"\"\u001b[39;00m\n\u001b[0;32m    578\u001b[0m values \u001b[38;5;241m=\u001b[39m \u001b[38;5;28mself\u001b[39m\u001b[38;5;241m.\u001b[39mvalues\n\u001b[1;32m--> 580\u001b[0m new_values \u001b[38;5;241m=\u001b[39m \u001b[43mastype_array_safe\u001b[49m\u001b[43m(\u001b[49m\u001b[43mvalues\u001b[49m\u001b[43m,\u001b[49m\u001b[43m \u001b[49m\u001b[43mdtype\u001b[49m\u001b[43m,\u001b[49m\u001b[43m \u001b[49m\u001b[43mcopy\u001b[49m\u001b[38;5;241;43m=\u001b[39;49m\u001b[43mcopy\u001b[49m\u001b[43m,\u001b[49m\u001b[43m \u001b[49m\u001b[43merrors\u001b[49m\u001b[38;5;241;43m=\u001b[39;49m\u001b[43merrors\u001b[49m\u001b[43m)\u001b[49m\n\u001b[0;32m    582\u001b[0m new_values \u001b[38;5;241m=\u001b[39m maybe_coerce_values(new_values)\n\u001b[0;32m    583\u001b[0m newb \u001b[38;5;241m=\u001b[39m \u001b[38;5;28mself\u001b[39m\u001b[38;5;241m.\u001b[39mmake_block(new_values)\n",
      "File \u001b[1;32mC:\\DEV\\Anaconda3\\envs\\res\\lib\\site-packages\\pandas\\core\\dtypes\\cast.py:1292\u001b[0m, in \u001b[0;36mastype_array_safe\u001b[1;34m(values, dtype, copy, errors)\u001b[0m\n\u001b[0;32m   1289\u001b[0m     dtype \u001b[38;5;241m=\u001b[39m dtype\u001b[38;5;241m.\u001b[39mnumpy_dtype\n\u001b[0;32m   1291\u001b[0m \u001b[38;5;28;01mtry\u001b[39;00m:\n\u001b[1;32m-> 1292\u001b[0m     new_values \u001b[38;5;241m=\u001b[39m \u001b[43mastype_array\u001b[49m\u001b[43m(\u001b[49m\u001b[43mvalues\u001b[49m\u001b[43m,\u001b[49m\u001b[43m \u001b[49m\u001b[43mdtype\u001b[49m\u001b[43m,\u001b[49m\u001b[43m \u001b[49m\u001b[43mcopy\u001b[49m\u001b[38;5;241;43m=\u001b[39;49m\u001b[43mcopy\u001b[49m\u001b[43m)\u001b[49m\n\u001b[0;32m   1293\u001b[0m \u001b[38;5;28;01mexcept\u001b[39;00m (\u001b[38;5;167;01mValueError\u001b[39;00m, \u001b[38;5;167;01mTypeError\u001b[39;00m):\n\u001b[0;32m   1294\u001b[0m     \u001b[38;5;66;03m# e.g. astype_nansafe can fail on object-dtype of strings\u001b[39;00m\n\u001b[0;32m   1295\u001b[0m     \u001b[38;5;66;03m#  trying to convert to float\u001b[39;00m\n\u001b[0;32m   1296\u001b[0m     \u001b[38;5;28;01mif\u001b[39;00m errors \u001b[38;5;241m==\u001b[39m \u001b[38;5;124m\"\u001b[39m\u001b[38;5;124mignore\u001b[39m\u001b[38;5;124m\"\u001b[39m:\n",
      "File \u001b[1;32mC:\\DEV\\Anaconda3\\envs\\res\\lib\\site-packages\\pandas\\core\\dtypes\\cast.py:1237\u001b[0m, in \u001b[0;36mastype_array\u001b[1;34m(values, dtype, copy)\u001b[0m\n\u001b[0;32m   1234\u001b[0m     values \u001b[38;5;241m=\u001b[39m values\u001b[38;5;241m.\u001b[39mastype(dtype, copy\u001b[38;5;241m=\u001b[39mcopy)\n\u001b[0;32m   1236\u001b[0m \u001b[38;5;28;01melse\u001b[39;00m:\n\u001b[1;32m-> 1237\u001b[0m     values \u001b[38;5;241m=\u001b[39m \u001b[43mastype_nansafe\u001b[49m\u001b[43m(\u001b[49m\u001b[43mvalues\u001b[49m\u001b[43m,\u001b[49m\u001b[43m \u001b[49m\u001b[43mdtype\u001b[49m\u001b[43m,\u001b[49m\u001b[43m \u001b[49m\u001b[43mcopy\u001b[49m\u001b[38;5;241;43m=\u001b[39;49m\u001b[43mcopy\u001b[49m\u001b[43m)\u001b[49m\n\u001b[0;32m   1239\u001b[0m \u001b[38;5;66;03m# in pandas we don't store numpy str dtypes, so convert to object\u001b[39;00m\n\u001b[0;32m   1240\u001b[0m \u001b[38;5;28;01mif\u001b[39;00m \u001b[38;5;28misinstance\u001b[39m(dtype, np\u001b[38;5;241m.\u001b[39mdtype) \u001b[38;5;129;01mand\u001b[39;00m \u001b[38;5;28missubclass\u001b[39m(values\u001b[38;5;241m.\u001b[39mdtype\u001b[38;5;241m.\u001b[39mtype, \u001b[38;5;28mstr\u001b[39m):\n",
      "File \u001b[1;32mC:\\DEV\\Anaconda3\\envs\\res\\lib\\site-packages\\pandas\\core\\dtypes\\cast.py:1108\u001b[0m, in \u001b[0;36mastype_nansafe\u001b[1;34m(arr, dtype, copy, skipna)\u001b[0m\n\u001b[0;32m   1106\u001b[0m \u001b[38;5;66;03m# dispatch on extension dtype if needed\u001b[39;00m\n\u001b[0;32m   1107\u001b[0m \u001b[38;5;28;01mif\u001b[39;00m \u001b[38;5;28misinstance\u001b[39m(dtype, ExtensionDtype):\n\u001b[1;32m-> 1108\u001b[0m     \u001b[38;5;28;01mreturn\u001b[39;00m \u001b[43mdtype\u001b[49m\u001b[38;5;241;43m.\u001b[39;49m\u001b[43mconstruct_array_type\u001b[49m\u001b[43m(\u001b[49m\u001b[43m)\u001b[49m\u001b[38;5;241;43m.\u001b[39;49m\u001b[43m_from_sequence\u001b[49m\u001b[43m(\u001b[49m\u001b[43marr\u001b[49m\u001b[43m,\u001b[49m\u001b[43m \u001b[49m\u001b[43mdtype\u001b[49m\u001b[38;5;241;43m=\u001b[39;49m\u001b[43mdtype\u001b[49m\u001b[43m,\u001b[49m\u001b[43m \u001b[49m\u001b[43mcopy\u001b[49m\u001b[38;5;241;43m=\u001b[39;49m\u001b[43mcopy\u001b[49m\u001b[43m)\u001b[49m\n\u001b[0;32m   1110\u001b[0m \u001b[38;5;28;01melif\u001b[39;00m \u001b[38;5;129;01mnot\u001b[39;00m \u001b[38;5;28misinstance\u001b[39m(dtype, np\u001b[38;5;241m.\u001b[39mdtype):  \u001b[38;5;66;03m# pragma: no cover\u001b[39;00m\n\u001b[0;32m   1111\u001b[0m     \u001b[38;5;28;01mraise\u001b[39;00m \u001b[38;5;167;01mValueError\u001b[39;00m(\u001b[38;5;124m\"\u001b[39m\u001b[38;5;124mdtype must be np.dtype or ExtensionDtype\u001b[39m\u001b[38;5;124m\"\u001b[39m)\n",
      "File \u001b[1;32mC:\\DEV\\Anaconda3\\envs\\res\\lib\\site-packages\\pandas\\core\\arrays\\integer.py:325\u001b[0m, in \u001b[0;36mIntegerArray._from_sequence\u001b[1;34m(cls, scalars, dtype, copy)\u001b[0m\n\u001b[0;32m    321\u001b[0m \u001b[38;5;129m@classmethod\u001b[39m\n\u001b[0;32m    322\u001b[0m \u001b[38;5;28;01mdef\u001b[39;00m \u001b[38;5;21m_from_sequence\u001b[39m(\n\u001b[0;32m    323\u001b[0m     \u001b[38;5;28mcls\u001b[39m, scalars, \u001b[38;5;241m*\u001b[39m, dtype: Dtype \u001b[38;5;241m|\u001b[39m \u001b[38;5;28;01mNone\u001b[39;00m \u001b[38;5;241m=\u001b[39m \u001b[38;5;28;01mNone\u001b[39;00m, copy: \u001b[38;5;28mbool\u001b[39m \u001b[38;5;241m=\u001b[39m \u001b[38;5;28;01mFalse\u001b[39;00m\n\u001b[0;32m    324\u001b[0m ) \u001b[38;5;241m-\u001b[39m\u001b[38;5;241m>\u001b[39m IntegerArray:\n\u001b[1;32m--> 325\u001b[0m     values, mask \u001b[38;5;241m=\u001b[39m \u001b[43mcoerce_to_array\u001b[49m\u001b[43m(\u001b[49m\u001b[43mscalars\u001b[49m\u001b[43m,\u001b[49m\u001b[43m \u001b[49m\u001b[43mdtype\u001b[49m\u001b[38;5;241;43m=\u001b[39;49m\u001b[43mdtype\u001b[49m\u001b[43m,\u001b[49m\u001b[43m \u001b[49m\u001b[43mcopy\u001b[49m\u001b[38;5;241;43m=\u001b[39;49m\u001b[43mcopy\u001b[49m\u001b[43m)\u001b[49m\n\u001b[0;32m    326\u001b[0m     \u001b[38;5;28;01mreturn\u001b[39;00m IntegerArray(values, mask)\n",
      "File \u001b[1;32mC:\\DEV\\Anaconda3\\envs\\res\\lib\\site-packages\\pandas\\core\\arrays\\integer.py:230\u001b[0m, in \u001b[0;36mcoerce_to_array\u001b[1;34m(values, dtype, mask, copy)\u001b[0m\n\u001b[0;32m    228\u001b[0m     values \u001b[38;5;241m=\u001b[39m values\u001b[38;5;241m.\u001b[39mastype(dtype, copy\u001b[38;5;241m=\u001b[39mcopy)\n\u001b[0;32m    229\u001b[0m \u001b[38;5;28;01melse\u001b[39;00m:\n\u001b[1;32m--> 230\u001b[0m     values \u001b[38;5;241m=\u001b[39m \u001b[43msafe_cast\u001b[49m\u001b[43m(\u001b[49m\u001b[43mvalues\u001b[49m\u001b[43m,\u001b[49m\u001b[43m \u001b[49m\u001b[43mdtype\u001b[49m\u001b[43m,\u001b[49m\u001b[43m \u001b[49m\u001b[43mcopy\u001b[49m\u001b[38;5;241;43m=\u001b[39;49m\u001b[38;5;28;43;01mFalse\u001b[39;49;00m\u001b[43m)\u001b[49m\n\u001b[0;32m    232\u001b[0m \u001b[38;5;28;01mreturn\u001b[39;00m values, mask\n",
      "File \u001b[1;32mC:\\DEV\\Anaconda3\\envs\\res\\lib\\site-packages\\pandas\\core\\arrays\\integer.py:122\u001b[0m, in \u001b[0;36msafe_cast\u001b[1;34m(values, dtype, copy)\u001b[0m\n\u001b[0;32m    120\u001b[0m     \u001b[38;5;28;01mreturn\u001b[39;00m values\u001b[38;5;241m.\u001b[39mastype(dtype, casting\u001b[38;5;241m=\u001b[39m\u001b[38;5;124m\"\u001b[39m\u001b[38;5;124msafe\u001b[39m\u001b[38;5;124m\"\u001b[39m, copy\u001b[38;5;241m=\u001b[39mcopy)\n\u001b[0;32m    121\u001b[0m \u001b[38;5;28;01mexcept\u001b[39;00m \u001b[38;5;167;01mTypeError\u001b[39;00m \u001b[38;5;28;01mas\u001b[39;00m err:\n\u001b[1;32m--> 122\u001b[0m     casted \u001b[38;5;241m=\u001b[39m \u001b[43mvalues\u001b[49m\u001b[38;5;241;43m.\u001b[39;49m\u001b[43mastype\u001b[49m\u001b[43m(\u001b[49m\u001b[43mdtype\u001b[49m\u001b[43m,\u001b[49m\u001b[43m \u001b[49m\u001b[43mcopy\u001b[49m\u001b[38;5;241;43m=\u001b[39;49m\u001b[43mcopy\u001b[49m\u001b[43m)\u001b[49m\n\u001b[0;32m    123\u001b[0m     \u001b[38;5;28;01mif\u001b[39;00m (casted \u001b[38;5;241m==\u001b[39m values)\u001b[38;5;241m.\u001b[39mall():\n\u001b[0;32m    124\u001b[0m         \u001b[38;5;28;01mreturn\u001b[39;00m casted\n",
      "\u001b[1;31mValueError\u001b[0m: invalid literal for int() with base 10: 'E14'"
     ]
    }
   ],
   "source": [
    "# nearest neighbour in ICOLD for each point in HDCC\n",
    "idx_hdcc, idx_icold = icold.sindex.nearest(hdcc.geometry, max_distance=.05)\n",
    "\n",
    "# add ICOLD name and ID to the HDCC table\n",
    "idx_hdcc = hdcc.index[idx_hdcc]\n",
    "icold['Local_ID'] = np.nan\n",
    "icold.loc[idx_icold, 'Local_ID'] = idx_hdcc.values\n",
    "icold.loc[idx_icold, 'HDCC_Name'] = hdcc.loc[idx_hdcc, 'Name'].values\n",
    "\n",
    "# convert 'Local_ID' to integer\n",
    "icold.Local_ID = icold.Local_ID.astype('Int64')\n",
    "\n",
    "# set 'Local_ID' as index\n",
    "icold.set_index('Local_ID', inplace=True, drop=True)"
   ]
  },
  {
   "cell_type": "code",
   "execution_count": null,
   "id": "a3bf4f71-921d-4602-9087-4e3bd19dca7d",
   "metadata": {},
   "outputs": [],
   "source": [
    "# remove Local_ID from reservoirs whose name in ICOLD and HDCC doesn't match\n",
    "mask_name = icold.Res_Name != icold.HDCC_Name\n",
    "mask_id = ~icold.Local_ID.isnull()\n",
    "icold.loc[mask_name & mask_id, 'Local_ID'] = np.nan\n",
    "# icold.loc[mask_name & mask_id, ['Int_Code', 'Res_Name', 'Local_ID', 'HDCC_Name']]"
   ]
  },
  {
   "cell_type": "markdown",
   "id": "77a83713-dcca-4a45-983f-ebad5768f4f4",
   "metadata": {},
   "source": [
    "There are 13 reservoirs in the HDCC database that are not included in ICOLD. There are 6 reservoirs where the connection between HDCC and ICOLD is dubious."
   ]
  },
  {
   "cell_type": "markdown",
   "id": "9d741637-8d5f-4531-b961-d3dc3c90128d",
   "metadata": {},
   "source": [
    "### Reservoir use"
   ]
  },
  {
   "cell_type": "code",
   "execution_count": null,
   "id": "6a3fe6c5-727c-4651-ad55-3ae08945a913",
   "metadata": {},
   "outputs": [],
   "source": [
    "# count uses\n",
    "uses = []\n",
    "for ID in icold.index:\n",
    "    try:\n",
    "        uses = uses + list(icold.loc[ID, 'Purposes'])\n",
    "    except:\n",
    "        continue\n",
    "\n",
    "np.unique(uses, return_counts=True)"
   ]
  },
  {
   "cell_type": "code",
   "execution_count": null,
   "id": "16d163b0-90ef-43bd-9544-6d67e3bb5150",
   "metadata": {},
   "outputs": [],
   "source": [
    "rename_uses = {'C': 'flood',\n",
    "               'I': 'irrigation',\n",
    "               'H': 'hydropower',\n",
    "               'F': 'fish',\n",
    "               'N': 'navigation',\n",
    "               'R': 'recreation',\n",
    "               'S': 'supply',\n",
    "               'X': 'other',\n",
    "               'T': 'tailings'}\n",
    "\n",
    "icold['main_use'] = ''\n",
    "icold['single_use'] = True\n",
    "\n",
    "icold_uses = list(rename_uses.values())\n",
    "icold_uses.sort()\n",
    "icold[icold_uses] = False\n",
    "\n",
    "for ID in icold.index:\n",
    "    if icold.loc[ID, 'Purposes'] is None:\n",
    "        continue\n",
    "    for i, key in enumerate(icold.loc[ID, 'Purposes']):\n",
    "        use = rename_uses[key]\n",
    "        if i == 0:\n",
    "            icold.loc[ID, 'main_use'] = use\n",
    "        icold.loc[ID, use] = True\n",
    "\n",
    "# identify multi-purpose reservoirs\n",
    "mask_multipurpose = icold[icold_uses].sum(axis=1) > 1\n",
    "icold.loc[mask_multipurpose, 'single_use'] = False\n",
    "\n",
    "# # remove original 'Purposes' field\n",
    "# icold.drop('Purposes', axis=1, inplace=True)"
   ]
  },
  {
   "cell_type": "markdown",
   "id": "a2d0e01c-a0cb-46af-8d76-2a3f6d227aa3",
   "metadata": {},
   "source": [
    "**Main use**"
   ]
  },
  {
   "cell_type": "code",
   "execution_count": null,
   "id": "191275c0-1d37-4591-80c4-b6c1a500fbab",
   "metadata": {},
   "outputs": [],
   "source": [
    "mask_singleuse = icold.single_use\n",
    "mask_hdcc = ~icold.Local_ID.isnull()\n",
    "mainuse_singlepurpose = icold.loc[mask_hdcc & mask_singleuse, 'main_use'].value_counts()\n",
    "mainuse_multipurpose = icold.loc[mask_hdcc, 'main_use'].value_counts()\n",
    "mainuse_summary_icold = pd.concat((mainuse_singlepurpose, mainuse_multipurpose), axis=1)\n",
    "mainuse_summary_icold.columns = ['singlepurpose', 'multipurpose']\n",
    "mainuse_summary_icold.sort_values('multipurpose', ascending=False, inplace=True)\n",
    "del mainuse_multipurpose, mainuse_singlepurpose"
   ]
  },
  {
   "cell_type": "markdown",
   "id": "43edee3e-cbfc-4e18-940d-4558fbc2f1c0",
   "metadata": {},
   "source": [
    "**All uses**"
   ]
  },
  {
   "cell_type": "code",
   "execution_count": null,
   "id": "59f309ed-e1de-4549-b95c-aae42c83c388",
   "metadata": {},
   "outputs": [],
   "source": [
    "alluses_singlepurpose = icold.loc[mask_hdcc & mask_singleuse, icold_uses].sum()\n",
    "alluses_multipurpose = icold.loc[mask_hdcc, icold_uses].sum()\n",
    "alluses_summary_icold = pd.concat((alluses_singlepurpose, alluses_multipurpose), axis=1)\n",
    "alluses_summary_icold.columns = ['singlepurpose', 'multipurpose']\n",
    "alluses_summary_icold.sort_values('multipurpose', ascending=False, inplace=True)\n",
    "alluses_summary_icold.dropna(axis=0, how='all', inplace=True)\n",
    "alluses_summary_icold = alluses_summary_icold[~(alluses_summary_icold == 0).all(axis=1)]\n",
    "del alluses_singlepurpose, alluses_multipurpose"
   ]
  },
  {
   "cell_type": "markdown",
   "id": "896af0d2-8dcf-4b97-ae26-df073abb1fd5",
   "metadata": {},
   "source": [
    "### Export\n",
    "\n",
    "Interesting attributes in ICOLD:\n",
    "\n",
    "* Altitude.\n",
    "* Catch_area. Compare with CEDEX.\n",
    "* Crest_Leng. Compare with CEDEX.\n",
    "* Elec_Capac.\n",
    "* Ene_Annual.\n",
    "* Height.\n",
    "* Irr_Area.\n",
    "* Purposes\n",
    "* Res_Area. Compare with CEDEX.\n",
    "* Res_Leng.\n",
    "* Res_Vol. Compare with CEDEX.\n",
    "* Spill_Cap. Compare with CEDEX.\n",
    "* Spill_type.\n",
    "* Vol_flood.\n",
    "* Year."
   ]
  },
  {
   "cell_type": "code",
   "execution_count": null,
   "id": "a9593943-1d15-4a88-bbb6-3787409c01a5",
   "metadata": {},
   "outputs": [],
   "source": [
    "# attributes to be included from ICOLD\n",
    "cols_icold = ['Altitude', 'Catch_Area', 'Crest_Leng', 'Dam_Name',\n",
    "              'Elec_Capac', 'Ene_Annual',\n",
    "              'Foundation', 'Height',\n",
    "              'Irr_Area', \n",
    "              'Latitude', 'Longitude',\n",
    "              'Res_Area', 'Res_Leng', 'Res_Name', 'Res_Vol', 'Resettled',\n",
    "              'Spill_Cap', 'Spill_Type', 'Vol_flood', 'Year',\n",
    "              'main_use', 'single_use', 'fish', 'flood', 'hydropower', 'irrigation', 'navigation', 'other', 'recreation', 'supply', 'tailings']\n",
    "\n",
    "# export attribute table\n",
    "# icold.loc[~icold.index.isnull(), cols_icold].to_csv(path_out / 'attributes_ICOLD.csv')\n",
    "icold[cols_icold].to_csv(path_out / 'attributes_ICOLD.csv')"
   ]
  },
  {
   "cell_type": "markdown",
   "id": "bdd6730f-2f31-4c9b-afcd-eb11fb3f2132",
   "metadata": {},
   "source": [
    "## EFAS"
   ]
  },
  {
   "cell_type": "code",
   "execution_count": null,
   "id": "959d4374-7b0c-4065-92cf-d703b4818c92",
   "metadata": {},
   "outputs": [],
   "source": [
    "path_EFAS = Path('Z:/nahaUsers/casadje/EFASv5/reservoirs/')"
   ]
  },
  {
   "cell_type": "markdown",
   "id": "92a7e497-f29d-4294-a0b1-4e0ecdb774e0",
   "metadata": {},
   "source": [
    "### Shapefile"
   ]
  },
  {
   "cell_type": "code",
   "execution_count": null,
   "id": "38c39665-9399-4520-8f08-91d4b8ba124d",
   "metadata": {},
   "outputs": [],
   "source": [
    "# load EFAS reservoirs\n",
    "efas = gpd.read_file(path_EFAS / 'reservoirs_EFAS5.shp')\n",
    "efas.ResID = efas.ResID.astype(pd.Int64Dtype())\n",
    "efas.set_index('ResID', inplace=True)\n",
    "\n",
    "# filter reservoir in Spain\n",
    "efas = efas.loc[efas.COUNTRY == 'Spain']\n",
    "\n",
    "# correct dam names\n",
    "efas.DAM_NAME.replace(np.nan, '', inplace=True)\n",
    "names = []\n",
    "for name in efas.DAM_NAME.str.upper():\n",
    "    split = name.split('_')\n",
    "    if len(split) == 2:\n",
    "        names.append(split[0])\n",
    "    elif len(split) > 2:\n",
    "        names.append(' '.join(split[:-1]))\n",
    "    else:\n",
    "        names.append(name)\n",
    "efas.DAM_NAME = names\n",
    "\n",
    "# correct coordinates of Cenza reservoir\n",
    "# efas.loc[3132, ['LON_ORG', 'LAT_ORG']] = [-7.1442, 42.1141]\n",
    "\n",
    "# remove old reservoir \"El Alisillo\" (ResID = 3247)\n",
    "efas.drop([3247], axis=0, inplace=True)\n",
    "\n",
    "# convert coordinates into the original\n",
    "efas = pd.DataFrame(efas)\n",
    "efas[['LON_ORG', 'LAT_ORG']] = efas[['LON_ORG', 'LAT_ORG']].astype(float)\n",
    "geometry = [Point(xy) for xy in zip(efas.LON_ORG, efas.LAT_ORG)]\n",
    "efas = gpd.GeoDataFrame(efas, geometry=geometry, crs='epsg:4326')\n",
    "\n",
    "# add EFAS reservoir parameters\n",
    "EFAS_vars = {'rclim': 'Vc',\n",
    "             'rflim': 'Vf',\n",
    "             'rminq': 'Qmin',\n",
    "             'rndq': 'Qnd',\n",
    "             'rnlim': 'Vn',\n",
    "             'rnormq': 'Qn',\n",
    "             'rtstor': 'Vtotal'}\n",
    "\n",
    "for file in path_EFAS.glob('r*.txt'):\n",
    "    var = EFAS_vars[file.stem]\n",
    "    serie = pd.read_csv(file, header=None, index_col=0, sep=' ').squeeze()\n",
    "    efas[var] = serie.loc[efas.index]\n",
    "# convert volumes to hm3\n",
    "efas[['Vc', 'Vf', 'Vn', 'Vtotal']] /= 1e6"
   ]
  },
  {
   "cell_type": "code",
   "execution_count": null,
   "id": "6052d305-f1c3-4ab4-91fd-644decb8e4aa",
   "metadata": {},
   "outputs": [],
   "source": [
    "fig, ax = plt.subplots(subplot_kw=dict(projection=ccrs.PlateCarree()))\n",
    "ax.add_feature(cfeature.NaturalEarthFeature('physical', 'land', '10m', edgecolor='face', facecolor='lightgray'),\n",
    "               alpha=.5,\n",
    "               zorder=0)\n",
    "efas.plot(markersize=efas.Vtotal**.5, alpha=.6, ax=ax, label=f'EFASv5 ({efas.shape[0]})')\n",
    "hdcc.plot(markersize=1, ax=ax, label=f'HDCC ({hdcc.shape[0]})')\n",
    "# ax.set_extent([-10, 4.5, 35.5, 44])\n",
    "ax.legend(frameon=False)\n",
    "ax.axis('off');"
   ]
  },
  {
   "cell_type": "markdown",
   "id": "59bec9fe-21e0-47a3-978d-5cb08894bfdf",
   "metadata": {},
   "source": [
    "### Raster"
   ]
  },
  {
   "cell_type": "code",
   "execution_count": null,
   "id": "79e1499b-52cc-4e19-92bc-7c9b4fad46ba",
   "metadata": {},
   "outputs": [],
   "source": [
    "# load static map of reservoirs\n",
    "efas_raster = xr.open_mfdataset(f'{path_EFAS}/res*.nc')['res'].compute()\n",
    "\n",
    "# extract an array of reservoir ID\n",
    "# ids = np.unique(glofas_raster.where(~glofas_raster.isnull(), drop=True))\n",
    "# ids = ids[~np.isnan(ids) & (ids != -9999)]\n",
    "# ids = ids.astype(int)\n",
    "ids = efas.index.sort_values().tolist()\n",
    "\n",
    "# xr.DataArrays of reservoir longitudes and latitudes\n",
    "lon = xr.DataArray(np.nan, dims=['ResID'], coords={'ResID': ids})\n",
    "lat = xr.DataArray(np.nan, dims=['ResID'], coords={'ResID': ids})\n",
    "for id in tqdm(ids):\n",
    "    try:\n",
    "        cell = efas_raster.where(efas_raster == id, drop=True)\n",
    "        lon.loc[dict(ResID=id)] = cell.lon.data[0]\n",
    "        lat.loc[dict(ResID=id)] = cell.lat.data[0]\n",
    "    except:\n",
    "        lon = lon.where(lon.ResID != id, drop=True)\n",
    "        lat = lat.where(lat.ResID != id, drop=True)\n",
    "        \n",
    "coords = xr.Dataset({'lon': lon, 'lat': lat})"
   ]
  },
  {
   "cell_type": "code",
   "execution_count": null,
   "id": "d5561741-d822-44d4-8ed4-a6f42ad47235",
   "metadata": {},
   "outputs": [],
   "source": [
    "fig, ax = plt.subplots(subplot_kw=dict(projection=ccrs.PlateCarree()))\n",
    "ax.add_feature(cfeature.NaturalEarthFeature('physical', 'land', '10m', edgecolor='face', facecolor='lightgray'),\n",
    "               alpha=.5,\n",
    "               zorder=0)\n",
    "efas.plot(markersize=efas.Vtotal**.5, alpha=.8, ax=ax, label=f'EFAS tables ({efas.shape[0]})')\n",
    "ax.scatter(coords['lon'].data, coords['lat'].data, s=1, label=f'EFAS raster ({len(coords.ResID)})')\n",
    "# ax.set_extent([-10, 4.5, 35.5, 44])\n",
    "fig.legend(frameon=False)\n",
    "ax.set_aspect('equal')\n",
    "ax.axis('off');"
   ]
  },
  {
   "cell_type": "markdown",
   "id": "26fce4b6-edbc-40d3-948f-6db0862fd140",
   "metadata": {},
   "source": [
    "There's a reservoir missing in the EFAS raster (`ResID=3132`, Cenza). Apart from that, the reservoir Montoro III that I have created to replace \"El Alisillo\" is also missing."
   ]
  },
  {
   "cell_type": "markdown",
   "id": "e4ff44f1-12a3-4a34-a451-4c94dd3d1f56",
   "metadata": {},
   "source": [
    "### Connect HDCC and EFAS"
   ]
  },
  {
   "cell_type": "code",
   "execution_count": null,
   "id": "bac58ef1-a161-4338-a2a5-a62268aaf69e",
   "metadata": {},
   "outputs": [],
   "source": [
    "# create fields for the ID and name in HDCC\n",
    "efas[['Local_ID', 'HDCC_Name']] = np.nan\n",
    "\n",
    "# find matches based on the name\n",
    "mask_name = hdcc.Name.isin(efas.DAM_NAME)\n",
    "for ID, name in hdcc.loc[mask_name, 'Name'].items():\n",
    "    efas.loc[efas.DAM_NAME == name, ['Local_ID', 'HDCC_Name']] = ID, name\n",
    "    # ResID = efas.loc[efas.DAM_NAME == name].index[0]\n",
    "    # hdcc.loc[ID, ['ResID', 'EFAS_Name']] = ResID, name\n",
    "\n",
    "# # find matches based on geographical proximity\n",
    "# mask_id_efas = efas.Local_ID.isnull() #efas.index.difference(hdcc.ResID)\n",
    "# mask_id_hdcc = hdcc.index.difference(efas.Local_ID.unique())\n",
    "# idx_hdcc, idx_efas = efas.loc[mask_id_efas].sindex.nearest(hdcc.loc[mask_id_hdcc].geometry, max_distance=.025)\n",
    "# idx_hdcc = hdcc.loc[mask_id_hdcc].index[idx_hdcc]\n",
    "# idx_efas = efas.loc[mask_id_efas].index[idx_efas]\n",
    "# efas.loc[idx_efas, ['Local_ID', 'HDCC_Name']] = idx_hdcc, hdcc.loc[idx_hdcc, 'Name'].values\n",
    "\n",
    "# convert 'Local_ID' to integer\n",
    "efas.Local_ID = efas.Local_ID.astype('Int64')"
   ]
  },
  {
   "cell_type": "markdown",
   "id": "10dcd3a5-0ddf-48f0-9da8-fcd43bcbc254",
   "metadata": {},
   "source": [
    "### Export"
   ]
  },
  {
   "cell_type": "code",
   "execution_count": null,
   "id": "26f058d7-3d89-4cb0-bd72-e9f80035388a",
   "metadata": {},
   "outputs": [],
   "source": [
    "# reindex\n",
    "efas.reset_index(inplace=True)\n",
    "efas.set_index('Local_ID', drop=True, inplace=True)\n",
    "efas.sort_index(inplace=True)\n",
    "\n",
    "# rename columns\n",
    "efas.rename(columns={'ACTIVE_FRO': 'YEAR'}, inplace=True)\n",
    "\n",
    "# attributes to be included from EFAS\n",
    "cols_efas = ['ResID', 'DAM_NAME', 'YEAR',\n",
    "             # coordinates\n",
    "             'LON_ORG', 'LAT_ORG', 'LisfloodX', 'LisfloodY',\n",
    "             # LISFLOOD limits\n",
    "             'Vc', 'Vf', 'Qmin', 'Qnd', 'Vn', 'Qn', 'Vtotal']\n",
    "\n",
    "# export as CSV\n",
    "# efas.loc[~efas.index.isnull(), cols_efas].to_csv(path_out / 'attributes_EFAS.csv')\n",
    "efas.loc[:, cols_efas].to_csv(path_out / 'attributes_EFAS.csv')"
   ]
  },
  {
   "cell_type": "markdown",
   "id": "2eb3c32b-f0f9-41c3-bced-19b7fae85ca4",
   "metadata": {},
   "source": [
    "## GRanD "
   ]
  },
  {
   "cell_type": "code",
   "execution_count": null,
   "id": "303bd23e-bf68-4e25-8c7a-5971ab23629f",
   "metadata": {},
   "outputs": [],
   "source": [
    "# load shapefile of dams\n",
    "path_grand = path_datasets / 'reservoirs' / 'GRanD' / 'v1_3'\n",
    "grand = gpd.read_file(path_grand / 'GRanD_dams_v1_3.shp')\n",
    "grand.set_index('GRAND_ID', drop=False, inplace=True)\n",
    "\n",
    "# filter dams in Spain\n",
    "grand = grand.loc[grand.COUNTRY == 'Spain']\n",
    "\n",
    "# correct names\n",
    "grand.DAM_NAME = grand.DAM_NAME.str.upper()\n",
    "\n",
    "print('No. reservoirs:\\t{0}\\nNo. attributes:\\t{1}'.format(*grand.shape))\n",
    "\n",
    "fig, ax = plt.subplots(subplot_kw=dict(projection=ccrs.PlateCarree()))\n",
    "ax.add_feature(cfeature.NaturalEarthFeature('physical', 'land', '10m', edgecolor='face', facecolor='lightgray'),\n",
    "               alpha=.5,\n",
    "               zorder=0)\n",
    "grand.plot(markersize=grand.CAP_MCM**.5, c=grand.MAIN_USE, cmap='viridis', alpha=.5, ax=ax)\n",
    "ax.set_title(f'GRanD\\n{grand.shape[0]} reservoirs')\n",
    "ax.set_extent([-10, 4.5, 35.5, 44])\n",
    "ax.axis('off');"
   ]
  },
  {
   "cell_type": "markdown",
   "id": "537c3ddf-0447-4326-8f22-faeff76212be",
   "metadata": {},
   "source": [
    "### Connect HDCC and GRanD"
   ]
  },
  {
   "cell_type": "code",
   "execution_count": null,
   "id": "07e2729f-a6dd-4816-aacd-7b9f3679a35c",
   "metadata": {},
   "outputs": [],
   "source": [
    "# create fields for the ID and name in HDCC\n",
    "grand[['Local_ID', 'HDCC_Name']] = np.nan\n",
    "\n",
    "# find matches based on the name\n",
    "mask_name = hdcc.Name.isin(grand.DAM_NAME)\n",
    "for ID, name in hdcc.loc[mask_name, 'Name'].items():\n",
    "    grand.loc[grand.DAM_NAME == name, ['Local_ID', 'HDCC_Name']] = ID, name\n",
    "\n",
    "# find matches based on geographical proximity\n",
    "mask_id_grand = grand.Local_ID.isnull()\n",
    "mask_id_hdcc = hdcc.index.difference(grand.Local_ID.unique())\n",
    "idx_hdcc, idx_grand = grand.loc[mask_id_grand].sindex.nearest(hdcc.loc[mask_id_hdcc].geometry, max_distance=.05)\n",
    "if len(idx_hdcc) > 0:\n",
    "    idx_hdcc = hdcc.loc[mask_id_hdcc].index[idx_hdcc]\n",
    "    idx_grand = grand.loc[mask_id_grand].index[idx_grand]\n",
    "    grand.loc[idx_grand, ['Local_ID', 'HDCC_Name']] = idx_hdcc, hdcc.loc[idx_hdcc, 'Name'].values\n",
    "\n",
    "# convert 'Local_ID' to integer\n",
    "grand.Local_ID = grand.Local_ID.astype('Int64')\n",
    "\n",
    "# remove Local_ID from reservoirs whose name in ICOLD and HDCC doesn't match\n",
    "mask_name = grand.DAM_NAME != grand.HDCC_Name\n",
    "mask_id = ~grand.Local_ID.isnull()\n",
    "grand.loc[mask_name & mask_id, 'Local_ID'] = np.nan\n",
    "\n",
    "# reindex\n",
    "grand.set_index('Local_ID', drop=True, inplace=True)\n",
    "\n",
    "#grand.loc[mask_name, ['GRAND_ID', 'DAM_NAME', 'Local_ID', 'HDCC_Name']].head(50)"
   ]
  },
  {
   "cell_type": "markdown",
   "id": "5331905e-d72c-41b7-a413-791a42912486",
   "metadata": {},
   "source": [
    "### Reservoir use"
   ]
  },
  {
   "cell_type": "code",
   "execution_count": null,
   "id": "7025b062-4d2d-4fca-878d-b9785e12f731",
   "metadata": {},
   "outputs": [],
   "source": [
    "# rename columns\n",
    "cols_use_grand = {'USE_IRRI': 'irrigation',\n",
    "                     'USE_ELEC': 'hydropower',\n",
    "                     'USE_SUPP': 'supply',\n",
    "                     'USE_FCON': 'flood',\n",
    "                     'USE_RECR': 'recreation',\n",
    "                     'USE_NAVI': 'navigation',\n",
    "                     'USE_FISH': 'fish',\n",
    "                     'USE_PCON': 'pollution',\n",
    "                     'USE_LIVE': 'livestock',\n",
    "                     'USE_OTHR': 'other'}\n",
    "grand.rename(columns=cols_use_grand, inplace=True)\n",
    "\n",
    "# replace values in 'MAIN_USE' to be consistent with the columns\n",
    "grand.MAIN_USE.replace({'Irrigation': 'irrigation',\n",
    "                        'Hydroelectricity': 'hydropower',\n",
    "                        'Water supply': 'supply',\n",
    "                        'Other': 'other',\n",
    "                        'Recreation': 'recreation',\n",
    "                        'Flood control': 'flood'},\n",
    "                       inplace=True)\n",
    "\n",
    "# convert to boolean\n",
    "grand_uses = list(cols_use_grand.values())\n",
    "grand[grand_uses] = grand[grand_uses].replace({'Main': True, 'Major': True, 'Sec': True, None: False})\n",
    "\n",
    "# identify single purpose reservoirs\n",
    "grand['SINGLE_USE'] = False\n",
    "mask_singleuse = grand[grand_uses].sum(axis=1) == 1\n",
    "grand.loc[mask_singleuse, 'SINGLE_USE'] = True"
   ]
  },
  {
   "cell_type": "markdown",
   "id": "38bab59a-b8db-4fd7-a372-faab06313ae4",
   "metadata": {},
   "source": [
    "**Main use**"
   ]
  },
  {
   "cell_type": "code",
   "execution_count": null,
   "id": "f4d1fd93-92ae-4eae-adf6-f8c555b149b2",
   "metadata": {},
   "outputs": [],
   "source": [
    "mask_singleuse = grand.SINGLE_USE\n",
    "mask_hdcc = ~grand.index.isnull()\n",
    "\n",
    "mainuse_singlepurpose = grand.loc[mask_hdcc & mask_singleuse, 'MAIN_USE'].value_counts()\n",
    "mainuse_multipurpose = grand.loc[mask_hdcc, 'MAIN_USE'].value_counts()\n",
    "mainuse_summary_grand = pd.concat((mainuse_singlepurpose, mainuse_multipurpose), axis=1)\n",
    "mainuse_summary_grand.columns = ['singlepurpose', 'multipurpose']\n",
    "mainuse_summary_grand.sort_values('multipurpose', ascending=False, inplace=True)\n",
    "del mainuse_singlepurpose, mainuse_multipurpose"
   ]
  },
  {
   "cell_type": "markdown",
   "id": "4a54f0ac-09fa-4cda-b6fc-67c757daf2dd",
   "metadata": {},
   "source": [
    "**All uses**"
   ]
  },
  {
   "cell_type": "code",
   "execution_count": null,
   "id": "545c1ac6-365e-42f9-828e-0ae12e1996ec",
   "metadata": {},
   "outputs": [],
   "source": [
    "alluses_singlepurpose = grand.loc[mask_hdcc & mask_singleuse, grand_uses].sum()\n",
    "alluses_multipurpose = grand.loc[mask_hdcc, grand_uses].sum()\n",
    "alluses_summary_grand = pd.concat((alluses_singlepurpose, alluses_multipurpose), axis=1)\n",
    "alluses_summary_grand.columns = ['singlepurpose', 'multipurpose']\n",
    "alluses_summary_grand.sort_values('multipurpose', ascending=False, inplace=True)\n",
    "alluses_summary_grand.dropna(axis=0, how='all', inplace=True)\n",
    "alluses_summary_grand = alluses_summary_grand[~(alluses_summary_grand == 0).all(axis=1)]\n",
    "del alluses_singlepurpose, alluses_multipurpose"
   ]
  },
  {
   "cell_type": "markdown",
   "id": "149a0faa-5932-48e7-8a0d-b53e51a2525e",
   "metadata": {},
   "source": [
    "### Export"
   ]
  },
  {
   "cell_type": "code",
   "execution_count": null,
   "id": "7d08b829-c40f-419a-90c1-3d63e76f774e",
   "metadata": {},
   "outputs": [],
   "source": [
    "# attributes to be included from EFAS\n",
    "cols_grand = ['GRAND_ID', 'RES_NAME', 'DAM_NAME', 'YEAR', 'REM_YEAR', 'LONG_DD', 'LAT_DD',\n",
    "              'DAM_HGT_M', 'DAM_LEN_M', 'AREA_SKM', 'CAP_MCM', 'DEPTH_M', 'DIS_AVG_LS', 'DOR_PC', 'ELEV_MASL', 'CATCH_SKM',\n",
    "              'irrigation', 'hydropower', 'supply', 'flood', 'recreation', 'navigation', 'fish', 'pollution', 'livestock', 'other', 'MAIN_USE', 'SINGLE_USE','LAKE_CTRL']\n",
    "\n",
    "# export as CSV\n",
    "# grand.loc[~grand.index.isnull(), cols_grand].to_csv(path_out / 'attributes_GRanD.csv')\n",
    "grand.loc[:, cols_grand].to_csv(path_out / 'attributes_GRanD.csv')"
   ]
  },
  {
   "cell_type": "markdown",
   "id": "535b31db-8025-41af-92c5-0e10c6572934",
   "metadata": {},
   "source": [
    "## Comparison of data sets"
   ]
  },
  {
   "cell_type": "markdown",
   "id": "041d91a4-d55b-4943-9945-757331bb819c",
   "metadata": {},
   "source": [
    "### Reservoir volume\n",
    "\n",
    "* CEDEX dams: `'V_MNL'`. This value does not represent total capacity, but the capacity at a normal level. Therefore, the actual reservoir capacity should always be larger than this value.\n",
    "* CEDEX reservoirs: `'V_total'`, `'V_live'`\n",
    "* ICOLD: `'Res_Vol'`\n",
    "* EFAS: `'Vtotal'`\n",
    "* GRanD: `'CAP_MCM'`"
   ]
  },
  {
   "cell_type": "code",
   "execution_count": null,
   "id": "04281167-0a57-4b9a-b51e-dc1b108d0520",
   "metadata": {},
   "outputs": [],
   "source": [
    "# combine all volume data in a single table\n",
    "volume = pd.concat((cedex_dam[['V_MNL']],\n",
    "                    cedex_res[['V_total', 'V_live']],\n",
    "                    efas.loc[~efas.index.isnull(), 'Vtotal'],\n",
    "                    grand.loc[~grand.index.isnull(), 'CAP_MCM'], \n",
    "                    icold.loc[~icold.index.isnull(), 'Res_Vol'],\n",
    "                   ), axis=1)\n",
    "volume.columns = ['CEDEX_dam', 'CEDEX_res_total', 'CEDEX_res_live', 'EFAS', 'GRanD', 'ICOLD']\n",
    "\n",
    "print('Number of reservoirs:\\t{0}\\nNumber of data sets:\\t{1}'.format(*volume.shape))\n",
    "\n",
    "# summarize\n",
    "volume_summary = pd.concat(((~volume.isnull()).sum(), volume.sum()), axis=1)\n",
    "volume_summary.columns = ['no_reservoirs', 'total_volume']\n",
    "volume_summary.sort_values('no_reservoirs', ascending=False, inplace=True)\n",
    "\n",
    "# plot summary\n",
    "fig, axes = plt.subplots(ncols=2, figsize=(8.5, 4), sharey=True)\n",
    "for ax, col in zip(axes, volume_summary):\n",
    "    ax.barh(volume_summary.index, volume_summary[col], color='lightsteelblue')\n",
    "    ax.spines[['top', 'left', 'right', 'bottom']].set_visible(False)\n",
    "    ax.tick_params(axis='y', length=0)\n",
    "    if ax == axes[0]:\n",
    "        ax.set(xlabel='no. reservoirs')\n",
    "    elif ax == axes[1]:\n",
    "        ax.set(xlabel='total volume (hm3)')\n",
    "        \n",
    "plt.savefig(path_out / 'reservoir_volume_barplot.jpg', dpi=300, bbox_inches='tight');"
   ]
  },
  {
   "cell_type": "markdown",
   "id": "f19d374d-85e8-4a48-9e03-65928fb407d8",
   "metadata": {},
   "source": [
    "The data in the plots above only represents the reservoirs in the datasets (EFAS, GRanD, ICOLD) that I could match with reservoirs in the HDCC database. The datasets on their own may contain more reservoirs; for instance, ICOLD includes 1066 reservoirs in Spain, but \"only\" 374 could be matched with the 394 reservoirs in HDCC.\n",
    "\n",
    "EFAS and GRanD are the two data sets with fewer number of reservoirs. However, the total volume that those reservoirs represent is very close to more comprehensive data sets as ICOLD or CEDEX. Interestingly, the total volume in ICOLD slightly exceeds that in CEDEX. This could be caused by the fact that CEDEX volume does not represent total capacity, but the storage at the normal reservoir level."
   ]
  },
  {
   "cell_type": "code",
   "execution_count": null,
   "id": "31dcbebf-92cd-4722-bcdf-e955333eff51",
   "metadata": {},
   "outputs": [],
   "source": [
    "# pair plot\n",
    "pair_plot = sns.pairplot(volume, corner=True, plot_kws={'alpha': .5})\n",
    "\n",
    "# reference 1:1 line\n",
    "nrow, ncol = pair_plot.axes.shape\n",
    "vmin, vmax = volume.min().min(), volume.max().max()\n",
    "for i in range(nrow):\n",
    "    for j in range(ncol):\n",
    "        if i > j:\n",
    "            pair_plot.axes[i, j].plot([vmin, vmax], [vmin, vmax],\n",
    "                                      c='k', lw=1, ls=':', zorder=0)\n",
    "            \n",
    "plt.savefig(path_out / 'reservoir_volume_pairplot.jpg', dpi=300, bbox_inches='tight');"
   ]
  },
  {
   "cell_type": "markdown",
   "id": "87beca08-9a5a-4541-8798-04b6a6d76dd5",
   "metadata": {},
   "source": [
    "I assume that CEDEX (`CEDEX_dam`) is the reference data set, as it is the local data set that probably was used by GRanD and ICOLD to develop their global data sets.\n",
    "\n",
    "Overall, there's a good agreement between all data sets:\n",
    " * ICOLD has a few reservoirs whose storage clearly exceeds the values reported by CEDEX.\n",
    " * GRanD reservoir storage shows more deviations compared with CEDEX. This deviations are small in most cases, and both overestimate or underestimate storage.\n",
    " * As the majority of reservoirs in EFAS come from GRanD, the analysis is similar to that of GRanD.\n",
    " * The live volume in CEDEX reservoirs is obviously smaller than the normal storage in most of the cases. However, there are a couple of errors in which the live volume exceeds the normal volume."
   ]
  },
  {
   "cell_type": "markdown",
   "id": "9e68d303-dfd5-422e-b216-edf803c649f4",
   "metadata": {},
   "source": [
    "### Reservoir surface area\n",
    "\n",
    "All reservoir area values are in km2:\n",
    "\n",
    "* CEDEX dams: `'A_MNL'` in ha. This value does not represent the maximum area, but the surface at a normal level.\n",
    "* CEDEX reservoirs: `'AREA'`\n",
    "* ICOLD: `'Res_Area'`\n",
    "* EFAS: none\n",
    "* GRanD: `'AREA_SKM'`"
   ]
  },
  {
   "cell_type": "code",
   "execution_count": null,
   "id": "55b60666-95b9-4e3b-b569-74e49023a456",
   "metadata": {},
   "outputs": [],
   "source": [
    "# combine all volume data in a single table\n",
    "area = pd.concat((cedex_dam[['A_MNL']],\n",
    "                  cedex_res['AREA'],\n",
    "                  icold.loc[~icold.index.isnull(), 'Res_Area'],\n",
    "                  # efas.loc[~efas.index.isnull(), 'Vtotal'],\n",
    "                  grand.loc[~grand.index.isnull(), 'AREA_SKM'], \n",
    "                 ), axis=1)\n",
    "area.columns = ['CEDEX_dam', 'CEDEX_res', 'ICOLD', 'GRanD']\n",
    "\n",
    "print('Number of reservoirs:\\t{0}\\nNumber of data sets:\\t{1}'.format(*area.shape))\n",
    "\n",
    "# summarize\n",
    "area_summary = pd.concat(((~area.isnull()).sum(), area.sum()), axis=1)\n",
    "area_summary.columns = ['no_reservoirs', 'total_area']\n",
    "area_summary.sort_values('no_reservoirs', ascending=False, inplace=True)\n",
    "\n",
    "# plot summary\n",
    "fig, axes = plt.subplots(ncols=2, figsize=(8.5, 4), sharey=True)\n",
    "for ax, col in zip(axes, area_summary):\n",
    "    ax.barh(area_summary.index, area_summary[col], color='lightsteelblue')\n",
    "    ax.spines[['top', 'left', 'right', 'bottom']].set_visible(False)\n",
    "    ax.tick_params(axis='y', length=0)\n",
    "    if ax == axes[0]:\n",
    "        ax.set(xlabel='no. reservoirs')\n",
    "    elif ax == axes[1]:\n",
    "        ax.set(xlabel='total area (km²)')\n",
    "        \n",
    "plt.savefig(path_out / 'reservoir_area_barplot.jpg', dpi=300, bbox_inches='tight');"
   ]
  },
  {
   "cell_type": "markdown",
   "id": "ef680d2f-3f10-449b-8c98-4d0d9c934577",
   "metadata": {},
   "source": [
    "The values for ICOD and CEDEX are very similar, both in terms of number of reservoirs and the total reservoir area. As seen for volume, ICOLD has a slightly smaller set of reservoirs than CEDEX, but the total aggregation slightly exceeds CEDEX. Again, this could be caused by CEDEX reporting area/volume at normal reservoir level, not at its maximum level.\n",
    "\n",
    "GRanD reports reservoir area in approximately half of the reservoirs. The total reservoir area seems to be in a similar proportion."
   ]
  },
  {
   "cell_type": "code",
   "execution_count": null,
   "id": "6ca26967-9a1a-4a04-84fe-8d0ad4932220",
   "metadata": {},
   "outputs": [],
   "source": [
    "# pair plot\n",
    "pair_plot = sns.pairplot(area, corner=True, plot_kws={'alpha': .5})\n",
    "\n",
    "# reference 1:1 line\n",
    "nrow, ncol = pair_plot.axes.shape\n",
    "amin, amax = area.min().min(), area.max().max()\n",
    "for i in range(nrow):\n",
    "    for j in range(ncol):\n",
    "        if i > j:\n",
    "            pair_plot.axes[i, j].plot([amin, amax], [amin, amax],\n",
    "                                      c='k', lw=1, ls=':', zorder=0)\n",
    "            \n",
    "plt.savefig(path_out / 'reservoir_area_pairplot.jpg', dpi=300, bbox_inches='tight');"
   ]
  },
  {
   "cell_type": "markdown",
   "id": "2397f787-863a-44c1-a362-02b92db1f125",
   "metadata": {},
   "source": [
    "The pair plots above show that GRanD underestimates reservoir area., and there seems to be a clear trend (even though the spread increases with increasing reservoir size).\n",
    "\n",
    "ICOLD data agrees appropriately with CEDEX."
   ]
  },
  {
   "cell_type": "markdown",
   "id": "1c92fa1f-a904-49e1-a9b5-f4967fc4bee0",
   "metadata": {
    "jp-MarkdownHeadingCollapsed": true,
    "tags": []
   },
   "source": [
    "### Reservoir use"
   ]
  },
  {
   "cell_type": "markdown",
   "id": "3a154cdc-23c3-4a0d-a120-f61dba50761e",
   "metadata": {},
   "source": [
    "**Main use**"
   ]
  },
  {
   "cell_type": "code",
   "execution_count": null,
   "id": "bf1db75b-576a-4ccd-b294-0ccf33f03f29",
   "metadata": {},
   "outputs": [],
   "source": [
    "main_use = {'CEDEX': mainuse_summary_cedex,\n",
    "            'ICOLD': mainuse_summary_icold,\n",
    "            'GRanD': mainuse_summary_grand}\n",
    "\n",
    "fig, axes = plt.subplots(ncols=len(main_use), figsize=(len(main_use) * 4, 4), sharex=True, tight_layout=True)\n",
    "for ax, (label, df) in zip(axes, main_use.items()):\n",
    "    ax.barh(df.index, df.multipurpose, color='steelblue', label='multi-purpose')\n",
    "    ax.barh(df.index, df.singlepurpose, color='lightsteelblue', label='single purpose')\n",
    "    ax.set(title=label,\n",
    "           xlabel='no. reservoirs')\n",
    "    ax.tick_params(axis='y', length=0)\n",
    "    ax.spines[['top', 'left', 'right', 'bottom']].set_visible(False);\n",
    "fig.suptitle('Main reservoir use')\n",
    "fig.legend(*ax.get_legend_handles_labels(), loc=5, frameon=False, bbox_to_anchor=[1.02, .4, .1, .2]);\n",
    "\n",
    "plt.savefig(path_out / 'reservoir_main_use.jpg', dpi=300, bbox_inches='tight');"
   ]
  },
  {
   "cell_type": "markdown",
   "id": "1cfa0bb9-eef9-4d61-a2d7-63dd85c39982",
   "metadata": {},
   "source": [
    "The definition of the main use of a reservoir is ambiguous. Is it the use that requires larger water volume? Is it a design decision? \n",
    "\n",
    "The ambiguity is clear in the plot above. Even though the two most common main uses (supply and hydropower) coincide in CEDEX and ICOLD, the figures differ notably. These two data sets assign different importance to flood and irrigation. On the contrary, GRanD identifies irrigation as the main reservoir use in Spain, followed by hydropower and supply; flood control has no importance in this data set."
   ]
  },
  {
   "cell_type": "markdown",
   "id": "b27de15f-40c2-4e1c-863a-65cbdcb40d4e",
   "metadata": {},
   "source": [
    "**All uses**"
   ]
  },
  {
   "cell_type": "code",
   "execution_count": null,
   "id": "04fd3481-b0f1-4815-ab10-e94778766b59",
   "metadata": {},
   "outputs": [],
   "source": [
    "all_uses = {'CEDEX': alluses_summary_cedex,\n",
    "            'ICOLD': alluses_summary_icold,\n",
    "            'GRanD': alluses_summary_grand}\n",
    "\n",
    "fig, axes = plt.subplots(ncols=len(all_uses), figsize=(len(all_uses) * 4, 4), sharex=True, tight_layout=True)\n",
    "for ax, (label, df) in zip(axes, all_uses.items()):\n",
    "    ax.barh(df.index, df.multipurpose, color='steelblue', label='multi-purpose')\n",
    "    ax.barh(df.index, df.singlepurpose, color='lightsteelblue', label='single purpose')\n",
    "    ax.set(title=label,\n",
    "           xlabel='no. reservoirs')\n",
    "    ax.tick_params(axis='y', length=0)\n",
    "    ax.spines[['top', 'left', 'right', 'bottom']].set_visible(False);\n",
    "fig.suptitle('All reservoir uses')\n",
    "fig.legend(*ax.get_legend_handles_labels(), loc=5, frameon=False, bbox_to_anchor=[1.02, .4, .1, .2]);\n",
    "\n",
    "plt.savefig(path_out / 'reservoir_all_uses.jpg', dpi=300, bbox_inches='tight');"
   ]
  },
  {
   "cell_type": "markdown",
   "id": "4dce7120-e483-406d-8cff-e71b8f367bb6",
   "metadata": {},
   "source": [
    "The difference between the three data sets remains when looking at all the reservoir uses. ICOLD and GRanD identify hydropower and irrigation as the two most common uses, even though the order differs between them two. CEDEX, instead, considers water supply as the main use (3rd in ICOLD and GRanD), and limits hydropower and irrigation to the 3rd and 4th rank. It's remarkable that flood control is the second most common use in CEDEX, but it has a residual value in both ICOLD and GRanD."
   ]
  },
  {
   "cell_type": "markdown",
   "id": "a2226df9-3b55-4978-96ce-48c08e72cee9",
   "metadata": {},
   "source": [
    "### Catchment area"
   ]
  },
  {
   "cell_type": "markdown",
   "id": "eafcb0cf-abec-4407-9177-60bac46a01ce",
   "metadata": {},
   "source": [
    "All catchment area values are in km2?\n",
    "\n",
    "* CEDEX dams: `'catch_area'` in ha. This value does not represent the maximum area, but the surface at a normal level.\n",
    "* ICOLD: `'Catch_Area'`\n",
    "* EFAS: none\n",
    "* GRanD: `'CATCH_SKM'`"
   ]
  },
  {
   "cell_type": "code",
   "execution_count": null,
   "id": "6a5afb2f-c05b-49dc-a6c7-d50d4fc1087f",
   "metadata": {},
   "outputs": [],
   "source": [
    "# combine all volume data in a single table\n",
    "catchment = pd.concat((cedex_dam[['catch_area']],\n",
    "                       icold.loc[~icold.index.isnull(), 'Catch_Area'],\n",
    "                       grand.loc[~grand.index.isnull(), 'CATCH_SKM'], \n",
    "                      ), axis=1)\n",
    "catchment.columns = ['CEDEX', 'ICOLD', 'GRanD']\n",
    "\n",
    "print('Number of reservoirs:\\t{0}\\nNumber of data sets:\\t{1}'.format(*catchment.shape))\n",
    "\n",
    "# summarize\n",
    "catchment_summary = pd.concat(((~catchment.isnull()).sum(), catchment.sum()), axis=1)\n",
    "catchment_summary.columns = ['no_reservoirs', 'total_area']\n",
    "catchment_summary.sort_values('no_reservoirs', ascending=False, inplace=True)\n",
    "\n",
    "# plot summary\n",
    "fig, axes = plt.subplots(ncols=2, figsize=(8.5, 4), sharey=True)\n",
    "for ax, col in zip(axes, catchment_summary):\n",
    "    ax.barh(catchment_summary.index, catchment_summary[col], color='lightsteelblue')\n",
    "    ax.spines[['top', 'left', 'right', 'bottom']].set_visible(False)\n",
    "    ax.tick_params(axis='y', length=0)\n",
    "    if ax == axes[0]:\n",
    "        ax.set(xlabel='no. reservoirs')\n",
    "    elif ax == axes[1]:\n",
    "        ax.set(xlabel='total catchment area (km²)')\n",
    "        \n",
    "plt.savefig(path_out / 'reservoir_catchment_barplot.jpg', dpi=300, bbox_inches='tight');"
   ]
  },
  {
   "cell_type": "markdown",
   "id": "9fc406fa-7805-4f20-9804-d62f9e80c594",
   "metadata": {},
   "source": [
    "The catchment area value is missing from several reservoirs in CEDEX, which causes that ICOLD is the most comprehensive data set. Even though the number of reservoirs in GRanD that report catchment area is notably smaller, the total catchment area is close to other data sets, meaning that GRanD includes the reservoirs with larger contributing area."
   ]
  },
  {
   "cell_type": "code",
   "execution_count": null,
   "id": "3e25e0c8-4f82-425b-ba37-b6e6c6b12c8c",
   "metadata": {},
   "outputs": [],
   "source": [
    "# pair plot\n",
    "pair_plot = sns.pairplot(catchment, corner=True, plot_kws={'alpha': .5})\n",
    "\n",
    "# reference 1:1 line\n",
    "nrow, ncol = pair_plot.axes.shape\n",
    "amin, amax = area.min().min(), area.max().max()\n",
    "for i in range(nrow):\n",
    "    for j in range(ncol):\n",
    "        if i > j:\n",
    "            pair_plot.axes[i, j].plot([amin, amax], [amin, amax],\n",
    "                                      c='k', lw=1, ls=':', zorder=0)\n",
    "            \n",
    "plt.savefig(path_out / 'reservoir_catchment_pairplot.jpg', dpi=300, bbox_inches='tight');"
   ]
  },
  {
   "cell_type": "markdown",
   "id": "03e698ab-b54f-4f09-b36f-08cf4a81969a",
   "metadata": {},
   "source": [
    "There is a considerable scatter in the areas among the smallest catchments. Specifically, GRanD has some rerservoirs which overestimate catchment area compared both with CEDEX and ICOLD. ICOLD, instead, includes catchment areas that differ in both ways (over or underestimate) the area of small catchments compared with CEDEX."
   ]
  },
  {
   "cell_type": "markdown",
   "id": "2a69598e-147e-441b-b870-30a17a7e7129",
   "metadata": {},
   "source": [
    "## Conclusion\n",
    "\n",
    "ICOLD seems to be the best data set to extract the reservoir static attributes. In the specific case of Spain, the Spanish National Inventory of Reservoirs and Dams (CEDEX) is more comprehensive, both in terms of number of reservoirs and the number of attributes). However, since this is only an exercise that must be extrapolated continentally/globally, we need to use a global data set like ICOLD or GRanD. The comparison of these two global data sets against CEDEX shows that the figures in ICOLD are closer to the reference. On top of that, I could match 374 reservoirs between the observed time series and ICOLD, and only 225 with GRanD, so using ICOLD increases notably the sample of reservoirs."
   ]
  }
 ],
 "metadata": {
  "kernelspec": {
   "display_name": "Python 3 (ipykernel)",
   "language": "python",
   "name": "python3"
  },
  "language_info": {
   "codemirror_mode": {
    "name": "ipython",
    "version": 3
   },
   "file_extension": ".py",
   "mimetype": "text/x-python",
   "name": "python",
   "nbconvert_exporter": "python",
   "pygments_lexer": "ipython3",
   "version": "3.9.13"
  }
 },
 "nbformat": 4,
 "nbformat_minor": 5
}
