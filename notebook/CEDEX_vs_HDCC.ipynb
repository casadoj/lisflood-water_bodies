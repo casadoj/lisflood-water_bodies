{
 "cells": [
  {
   "cell_type": "code",
   "execution_count": null,
   "id": "d8cff414-2b9e-45f3-9abb-3f01f1a476b2",
   "metadata": {},
   "outputs": [],
   "source": [
    "import glob\n",
    "import re\n",
    "from pathlib import Path\n",
    "import numpy as np\n",
    "import pandas as pd\n",
    "import xarray as xr\n",
    "from tqdm.notebook import tqdm"
   ]
  },
  {
   "cell_type": "markdown",
   "id": "123b7ac1-7ca7-464a-8449-591984978105",
   "metadata": {},
   "source": [
    "## Configuration"
   ]
  },
  {
   "cell_type": "code",
   "execution_count": null,
   "id": "7c11f600-ce99-4ef7-b1d4-dec517cb1ca2",
   "metadata": {},
   "outputs": [],
   "source": [
    "path = Path('Z:/nahaUsers/casadje/datasets/hDMS/reservoirs')"
   ]
  },
  {
   "cell_type": "markdown",
   "id": "ed68f148-28a7-4d00-9cb0-966cd5adbf5a",
   "metadata": {},
   "source": [
    "## Data\n",
    "\n",
    "### Reservoirs\n",
    "\n",
    "#### CEDEX"
   ]
  },
  {
   "cell_type": "code",
   "execution_count": null,
   "id": "c0eeb200-8fd9-4166-aac5-aa2054d775ce",
   "metadata": {},
   "outputs": [],
   "source": [
    "path_CEDEX = Path('Z:/nahaUsers/casadje/datasets/CEDEX/processed/reservoirs')"
   ]
  },
  {
   "cell_type": "code",
   "execution_count": null,
   "id": "afb9a26b-b3ee-490e-b6c4-526f88ef6672",
   "metadata": {
    "tags": []
   },
   "outputs": [],
   "source": [
    "starts = {}\n",
    "variables = {}\n",
    "for file in (path_CEDEX / 'timeseries').glob('*.csv'):\n",
    "    ID = int(file.stem)\n",
    "    df = pd.read_csv(file)#, usecols=['date'])\n",
    "    starts[ID] = pd.to_datetime(df.date).min()\n",
    "    var = df.columns.tolist()\n",
    "    var.remove('date')\n",
    "    var.remove('type')\n",
    "    variables[ID] = var\n",
    "starts = pd.Series(starts)"
   ]
  },
  {
   "cell_type": "code",
   "execution_count": null,
   "id": "2b0c1e0f-6b18-4222-9b35-077369934e74",
   "metadata": {},
   "outputs": [],
   "source": [
    "for ID, var in variables.items():\n",
    "    if len(var) == 1:\n",
    "        print(ID, var)"
   ]
  },
  {
   "cell_type": "code",
   "execution_count": null,
   "id": "5103ad5c-47f2-4451-9043-4771121211ba",
   "metadata": {},
   "outputs": [],
   "source": [
    "var.remove('date')"
   ]
  },
  {
   "cell_type": "code",
   "execution_count": null,
   "id": "dc01f12f-7e7b-4ef9-9585-87e23adc7073",
   "metadata": {},
   "outputs": [],
   "source": [
    "var"
   ]
  },
  {
   "cell_type": "code",
   "execution_count": null,
   "id": "25446126-3c80-438f-b804-bae85a9499da",
   "metadata": {},
   "outputs": [],
   "source": [
    "starts.describe()"
   ]
  },
  {
   "cell_type": "markdown",
   "id": "0cfda66b-9955-41fb-aa27-75a83e670e16",
   "metadata": {},
   "source": [
    "#### HDCC"
   ]
  },
  {
   "cell_type": "code",
   "execution_count": null,
   "id": "637b4f2b-242a-4448-92f2-498e788b2c41",
   "metadata": {},
   "outputs": [],
   "source": [
    "reservoirs = pd.read_csv(list(path.glob('*.csv'))[0], sep=';', index_col='EFAS_ID')\n",
    "\n",
    "# correct reservoir names\n",
    "names = []\n",
    "for name in reservoirs.Name:\n",
    "    name = name.upper()\n",
    "    # remove code from reservoir name\n",
    "    name = re.sub(r'E\\d{2}\\s*', '', name)\n",
    "    # remove string 'embalse' from name\n",
    "    name = re.sub(r'EMBALSE DE\\s+', '', name)\n",
    "    name = re.sub(r'EMBALSE DEL\\s+', 'EL ', name)\n",
    "    # remove string at the of the name\n",
    "    name = re.sub(r'\\s*\\(PIE DE PRESA\\)', '', name)\n",
    "    # place articles ('el', 'la'...) at the beginning\n",
    "    name = re.sub(r'(\\w+), (\\w+)', r'\\2 \\1', name)\n",
    "    names.append(name)\n",
    "reservoirs.Name = names\n",
    "\n",
    "print('total no. reservoirs:\\t\\t\\t{0}'.format(reservoirs.shape[0]))\n",
    "\n",
    "reservoirs.head()"
   ]
  },
  {
   "cell_type": "code",
   "execution_count": null,
   "id": "24e1b4c6-92bc-45d8-8c93-c5e0942ba6f8",
   "metadata": {},
   "outputs": [],
   "source": [
    "reservoirs.loc[reservoirs.Name == 'LA BARCA']"
   ]
  },
  {
   "cell_type": "markdown",
   "id": "50a82e37-c781-4095-9c1f-7854a2e97b4e",
   "metadata": {},
   "source": [
    "### Time series\n",
    "\n",
    "#### CEDEX"
   ]
  },
  {
   "cell_type": "code",
   "execution_count": null,
   "id": "8b1b6c30-4342-4a8d-8c3e-3a2e0a5c7272",
   "metadata": {},
   "outputs": [],
   "source": []
  },
  {
   "cell_type": "markdown",
   "id": "d41ae443-0852-4490-a93f-524ac275050d",
   "metadata": {},
   "source": [
    "#### HDCC"
   ]
  },
  {
   "cell_type": "code",
   "execution_count": null,
   "id": "ba65029c-8c54-495c-8d9c-bc0539abd340",
   "metadata": {},
   "outputs": [],
   "source": [
    "path"
   ]
  },
  {
   "cell_type": "code",
   "execution_count": null,
   "id": "2b08f158-6da2-4d31-86a5-00cede980413",
   "metadata": {
    "tags": []
   },
   "outputs": [],
   "source": [
    "data = {}\n",
    "for file in tqdm(list((path / 'nhoperational24hw').glob('*.nc'))):\n",
    "    ID = int(file.stem)\n",
    "\n",
    "    ds = xr.open_dataset(file)\n",
    "    \n",
    "    try:\n",
    "        variables = list(ds.keys())\n",
    "        if 'outflow' not in variables:\n",
    "            ds['outflow'] = xr.zeros_like(ds['volume']) * np.nan\n",
    "        elif 'volume' not in variables:\n",
    "            ds['volume'] = xr.zeros_like(ds['outflow']) * np.nan\n",
    "\n",
    "        data[ID] = ds\n",
    "    except:\n",
    "        print(ID)\n",
    "        continue"
   ]
  },
  {
   "cell_type": "code",
   "execution_count": null,
   "id": "6676d82c-686e-48fa-b9a1-aa529d9a5bf9",
   "metadata": {},
   "outputs": [],
   "source": [
    "data1 = xr.open_dataset(f'{path_datasets}/nhoperational24hw/9422.nc')\n",
    "data1.close()\n",
    "# data1['volume'] = xr.zeros_like(data1['outflow']) * np.nan\n",
    "\n",
    "data1"
   ]
  },
  {
   "cell_type": "code",
   "execution_count": null,
   "id": "35bedcb9-3565-4610-bfe3-0e02388cec86",
   "metadata": {},
   "outputs": [],
   "source": [
    "data2 = xr.open_dataset(f'{path_datasets}/hDMS/reservoirs/nhoperational24hw/9126.nc')\n",
    "data2.close()"
   ]
  },
  {
   "cell_type": "code",
   "execution_count": null,
   "id": "86ae7d2d-aaf3-4715-b768-949a1f3f15c5",
   "metadata": {},
   "outputs": [],
   "source": [
    "data1['volume'].plot()"
   ]
  },
  {
   "cell_type": "code",
   "execution_count": null,
   "id": "24ee41df-dbb0-41c4-b1fc-6e81ddd4a562",
   "metadata": {},
   "outputs": [],
   "source": [
    "data2['volume'].plot()"
   ]
  },
  {
   "cell_type": "code",
   "execution_count": null,
   "id": "4c01b197-874d-47e4-81e2-380ffda4dcd5",
   "metadata": {},
   "outputs": [],
   "source": [
    "data = xr.open_mfdataset(f'{path_datasets}/hDMS/reservoirs/nhoperational24hw/*.nc',\n",
    "                         combine='nested',\n",
    "                         concat_dim='ID')\n",
    "data.close()\n",
    "\n",
    "data"
   ]
  },
  {
   "cell_type": "code",
   "execution_count": null,
   "id": "1efb2ff0-81ec-45b9-9753-c1456dc20f26",
   "metadata": {},
   "outputs": [],
   "source": [
    "ID = '9142'"
   ]
  },
  {
   "cell_type": "code",
   "execution_count": null,
   "id": "751936d0-4e1f-4b71-8e6c-b9f958be50d9",
   "metadata": {},
   "outputs": [],
   "source": [
    "data.ID.data"
   ]
  },
  {
   "cell_type": "code",
   "execution_count": null,
   "id": "96576d49-4d20-4fa9-951c-976fddadd8ed",
   "metadata": {},
   "outputs": [],
   "source": [
    "data['outflow'].sel(ID=ID).plot()"
   ]
  },
  {
   "cell_type": "code",
   "execution_count": null,
   "id": "fd2f2851-0bc4-4b5b-bb3e-e5c30ec08972",
   "metadata": {},
   "outputs": [],
   "source": []
  }
 ],
 "metadata": {
  "kernelspec": {
   "display_name": "Python 3 (ipykernel)",
   "language": "python",
   "name": "python3"
  },
  "language_info": {
   "codemirror_mode": {
    "name": "ipython",
    "version": 3
   },
   "file_extension": ".py",
   "mimetype": "text/x-python",
   "name": "python",
   "nbconvert_exporter": "python",
   "pygments_lexer": "ipython3",
   "version": "3.9.13"
  }
 },
 "nbformat": 4,
 "nbformat_minor": 5
}
